{
 "cells": [
  {
   "cell_type": "code",
   "execution_count": 3,
   "metadata": {},
   "outputs": [],
   "source": [
    "#1. Closure Function\n",
    "def reversor(local):\n",
    "    def reverse():\n",
    "        print(local[::-1])\n",
    "    return reverse"
   ]
  },
  {
   "cell_type": "code",
   "execution_count": 5,
   "metadata": {},
   "outputs": [
    {
     "name": "stdout",
     "output_type": "stream",
     "text": [
      "Sakthi Das\n"
     ]
    }
   ],
   "source": [
    "# 2. returning function is called\n",
    "embed_obj=reversor(\"saD ihtkaS\")\n",
    "embed_obj()"
   ]
  },
  {
   "cell_type": "code",
   "execution_count": 12,
   "metadata": {},
   "outputs": [],
   "source": [
    "# 3. Closure define\n",
    "def convertor(cm):\n",
    "    def metre_milli(key):\n",
    "        if(key=='M'):\n",
    "            return cm/100\n",
    "        elif(key=='m'):\n",
    "            return cm*10\n",
    "    return metre_milli"
   ]
  },
  {
   "cell_type": "code",
   "execution_count": 13,
   "metadata": {},
   "outputs": [
    {
     "name": "stdout",
     "output_type": "stream",
     "text": [
      "50  millimetres\n",
      "1.79  metres\n"
     ]
    }
   ],
   "source": [
    "# 4.Calling enclosed function\n",
    "value_to1=convertor(5)\n",
    "value_to2=convertor(179)\n",
    "print(value_to1('m'),\" millimetres\")\n",
    "print(value_to2('M'),\" metres\")"
   ]
  },
  {
   "cell_type": "code",
   "execution_count": 17,
   "metadata": {},
   "outputs": [],
   "source": [
    "# 5. Calling higher order functions\n",
    "def add(no_1,no_2):\n",
    "    return no_1+no_2\n",
    "def sub(no_1,no_2):\n",
    "    return no1-no2\n",
    "def mul(no_1,no_2):\n",
    "    return no_1*no_2\n",
    "def div(no_1,no_2):\n",
    "    return no_1/no_2"
   ]
  },
  {
   "cell_type": "code",
   "execution_count": 18,
   "metadata": {},
   "outputs": [],
   "source": [
    "def operation(func,no_1,no_2):\n",
    "    result=func(no_1,no_2)\n",
    "    return result"
   ]
  },
  {
   "cell_type": "code",
   "execution_count": 21,
   "metadata": {},
   "outputs": [
    {
     "name": "stdout",
     "output_type": "stream",
     "text": [
      "Sum:  8\n",
      "Product:  15\n"
     ]
    }
   ],
   "source": [
    "print(\"Sum: \",operation(add,3,5))\n",
    "print(\"Product: \",operation(mul,3,5))"
   ]
  },
 ],
 "metadata": {
  "kernelspec": {
   "display_name": "Python 3",
   "language": "python",
   "name": "python3"
  },
  "language_info": {
   "codemirror_mode": {
    "name": "ipython",
    "version": 3
   },
   "file_extension": ".py",
   "mimetype": "text/x-python",
   "name": "python",
   "nbconvert_exporter": "python",
   "pygments_lexer": "ipython3",
   "version": "3.8.3"
  }
 },
 "nbformat": 4,
 "nbformat_minor": 4
}
