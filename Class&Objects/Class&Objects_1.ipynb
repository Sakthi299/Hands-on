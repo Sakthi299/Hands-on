{
 "cells": [
  {
   "cell_type": "code",
   "execution_count": 27,
   "metadata": {},
   "outputs": [],
   "source": [
    "# 1. Initialise class\n",
    "class record:\n",
    "    def __init__(self,name,roll,age,sub1,sub2,sub3):\n",
    "        self.name=name\n",
    "        self.roll=roll\n",
    "        self.age=age\n",
    "        self.sub1=sub1\n",
    "        self.sub2=sub2\n",
    "        self.sub3=sub3\n",
    "# 2. Define method for same instance of class\n",
    "    def  total(self):\n",
    "            return(self.sub1+self.sub2+self.sub3)"
   ]
  },
  {
   "cell_type": "code",
   "execution_count": 28,
   "metadata": {},
   "outputs": [],
   "source": [
    "# 3. Define Object\n",
    "obj=record(\"Ajith\",787,21,97,88,96)"
   ]
  },
  {
   "cell_type": "code",
   "execution_count": 29,
   "metadata": {},
   "outputs": [
    {
     "name": "stdout",
     "output_type": "stream",
     "text": [
      "Name: Ajith\n",
      "Id: 787\n",
      "Age: 21\n",
      "Total: 281/300\n"
     ]
    }
   ],
   "source": [
    "# 4. calling Object\n",
    "print(\"Name: \"+obj.name,\n",
    "      \"Id: \"+str(obj.roll),\n",
    "      \"Age: \"+str(obj.age),\n",
    "      \"Total: \"+str(obj.total())+\"/300\",\n",
    "       sep=\"\\n\")"
   ]
  },
  {
   "cell_type": "code",
   "execution_count": 30,
   "metadata": {},
   "outputs": [],
   "source": [
    "# 5. modify object property\n",
    "del obj.age"
   ]
  }
 ],
 "metadata": {
  "kernelspec": {
   "display_name": "Python 3",
   "language": "python",
   "name": "python3"
  },
  "language_info": {
   "codemirror_mode": {
    "name": "ipython",
    "version": 3
   },
   "file_extension": ".py",
   "mimetype": "text/x-python",
   "name": "python",
   "nbconvert_exporter": "python",
   "pygments_lexer": "ipython3",
   "version": "3.8.3"
  }
 },
 "nbformat": 4,
 "nbformat_minor": 4
}
