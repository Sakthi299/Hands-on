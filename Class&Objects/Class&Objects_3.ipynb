{
 "cells": [
  {
   "cell_type": "code",
   "execution_count": 2,
   "metadata": {},
   "outputs": [],
   "source": [
    "# 11. Class Methods\n",
    "class relay_race:\n",
    "    def third(self):\n",
    "        print(\"Roshan passes to\",end=\" \")\n",
    "    @staticmethod\n",
    "    def second():\n",
    "        print(\"Sanjay and then\",end=\" \")\n",
    "    @classmethod\n",
    "    def first(cls):\n",
    "        print(\"Raghav took away the baton and finishes the race.\")"
   ]
  },
  {
   "cell_type": "code",
   "execution_count": 3,
   "metadata": {},
   "outputs": [],
   "source": [
    "# 12. instantiating objects\n",
    "obj=relay_race()"
   ]
  },
  {
   "cell_type": "code",
   "execution_count": 4,
   "metadata": {},
   "outputs": [
    {
     "name": "stdout",
     "output_type": "stream",
     "text": [
      "Relay Race Scenario: \n",
      "Roshan passes to Sanjay and then Raghav took away the baton and finishes the race.\n"
     ]
    }
   ],
   "source": [
    "# 13. calling methods\n",
    "print(\"Relay Race Scenario: \")\n",
    "obj.third()\n",
    "relay_race.second()\n",
    "relay_race.first()"
   ]
  }
 ],
 "metadata": {
  "kernelspec": {
   "display_name": "Python 3",
   "language": "python",
   "name": "python3"
  },
  "language_info": {
   "codemirror_mode": {
    "name": "ipython",
    "version": 3
   },
   "file_extension": ".py",
   "mimetype": "text/x-python",
   "name": "python",
   "nbconvert_exporter": "python",
   "pygments_lexer": "ipython3",
   "version": "3.8.3"
  }
 },
 "nbformat": 4,
 "nbformat_minor": 4
}
