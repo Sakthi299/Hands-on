{
 "cells": [
  {
   "cell_type": "code",
   "execution_count": 18,
   "metadata": {},
   "outputs": [],
   "source": [
    "# 6. Instance_Variables\n",
    "class agency:\n",
    "    ph=244284;\n",
    "    def display(self):\n",
    "        self.__id=11\n",
    "        self.__name=\"Bharath\"\n",
    "        self._cus_count=1000\n",
    "        self.Revenue=200000\n",
    "    def show(self):\n",
    "        print(\"Name : \"+self.__name,\"\\n\",\"ID \\t: \"+str(self.__id))"
   ]
  },
  {
   "cell_type": "code",
   "execution_count": 19,
   "metadata": {},
   "outputs": [],
   "source": [
    "# 7. object creation\n",
    "obj=agency()"
   ]
  },
  {
   "cell_type": "code",
   "execution_count": 20,
   "metadata": {},
   "outputs": [
    {
     "name": "stdout",
     "output_type": "stream",
     "text": [
      "Name : Bharath \n",
      " ID \t: 11\n"
     ]
    }
   ],
   "source": [
    "# 8. accessing class members\n",
    "obj.display()\n",
    "obj.show()"
   ]
  },
  {
   "cell_type": "code",
   "execution_count": 21,
   "metadata": {},
   "outputs": [
    {
     "name": "stdout",
     "output_type": "stream",
     "text": [
      "Customer Count\t:  1000\n",
      "Agency Revenue:  200000\n"
     ]
    }
   ],
   "source": [
    "# 9. Calling protected & public instance variables\n",
    "print(\"Customer Count\\t: \",obj._cus_count)\n",
    "print(\"Agency Revenue: \",obj.Revenue)"
   ]
  },
  {
   "cell_type": "code",
   "execution_count": 22,
   "metadata": {},
   "outputs": [
    {
     "name": "stdout",
     "output_type": "stream",
     "text": [
      "Phone\t:  244284\n"
     ]
    }
   ],
   "source": [
    "# 10. accessing static variable\n",
    "print(\"Phone\\t: \",agency.ph)"
   ]
  }
 ],
 "metadata": {
  "kernelspec": {
   "display_name": "Python 3",
   "language": "python",
   "name": "python3"
  },
  "language_info": {
   "codemirror_mode": {
    "name": "ipython",
    "version": 3
   },
   "file_extension": ".py",
   "mimetype": "text/x-python",
   "name": "python",
   "nbconvert_exporter": "python",
   "pygments_lexer": "ipython3",
   "version": "3.8.3"
  }
 },
 "nbformat": 4,
 "nbformat_minor": 4
}
