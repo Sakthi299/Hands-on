{
 "cells": [
  {
   "cell_type": "code",
   "execution_count": 1,
   "metadata": {},
   "outputs": [
    {
     "name": "stdout",
     "output_type": "stream",
     "text": [
      "Kaggle is the world's largest data science community \n",
      "with powerful tools and resources \n",
      "to help you achieve your data science goals\n",
      "----------------------------------------------------------------------\n",
      "Is string \" data science\" found in sentence:  True\n"
     ]
    }
   ],
   "source": [
    "# 6.  MultiLine String\n",
    "sentence=\"\"\"Kaggle is the world's largest data science community \n",
    "with powerful tools and resources \n",
    "to help you achieve your data science goals\"\"\"\n",
    "print(sentence)\n",
    "key='data science' in sentence\n",
    "print(\"----------------------------------------------------------------------\")\n",
    "print(\"Is string \\\" data science\\\" found in sentence: \",key)\n"
   ]
  },
  {
   "cell_type": "code",
   "execution_count": 2,
   "metadata": {},
   "outputs": [
    {
     "name": "stdout",
     "output_type": "stream",
     "text": [
      "1)  TENSORFLOW IS A FREE AND OPEN-SOURCE SOFTWARE LIBRARY FOR DATAFLOW AND DIFFERENTIABLE PROGRAMMING ACROSS A RANGE OF TASKS.\n",
      "2)  tensorflow is a free and open-source software library for dataflow and differentiable programming across a range of tasks.\n",
      "3) TensorFlow is a free and open-source software library .\n"
     ]
    }
   ],
   "source": [
    "# 7. StringOperations\n",
    "sentence=\"TensorFlow is a free and open-source software library for dataflow and differentiable programming across a range of tasks.\"\n",
    "print(\"1) \",sentence.upper())\n",
    "print(\"2) \",sentence.lower())\n",
    "print(\"3)\",sentence.replace(\"for dataflow and differentiable programming across a range of tasks\",\"\"))"
   ]
  },
  {
   "cell_type": "code",
   "execution_count": 1,
   "metadata": {},
   "outputs": [
    {
     "name": "stdout",
     "output_type": "stream",
     "text": [
      "Python is a interpreted language.\n",
      "It is developed in 1990.\n"
     ]
    }
   ],
   "source": [
    "# 8. String Concatenate\n",
    "Language=\"Python\"\n",
    "statement=\" is a interpreted language.\"\n",
    "year=1990\n",
    "origin=\"It is developed in {}.\"\n",
    "print(Language+statement+\"\\n\"+origin.format(year))"
   ]
  },
  {
   "cell_type": "code",
   "execution_count": 3,
   "metadata": {},
   "outputs": [
    {
     "name": "stdout",
     "output_type": "stream",
     "text": [
      "Finding Leap Year\n",
      "Enter a year: 1900\n",
      "It is not a Leap Year\n"
     ]
    }
   ],
   "source": [
    "# 9. ControlFlow Statements\n",
    "print(\"Finding Leap Year\")\n",
    "case_1=\"It is a Leap Year\"\n",
    "case_2=\"It is not a Leap Year\"\n",
    "year=int(input(\"Enter a year: \"))\n",
    "if (year%4 ==0):\n",
    "    if(year%100 ==0):\n",
    "        if(year%400 ==0):  \n",
    "            print(case_1)\n",
    "        else:\n",
    "            print(case_2)\n",
    "    else:\n",
    "        print(case_1)\n",
    "else:\n",
    "    print(case_2)\n",
    "\n",
    "\n"
   ]
  },
  {
   "cell_type": "code",
   "execution_count": 7,
   "metadata": {},
   "outputs": [
    {
     "name": "stdout",
     "output_type": "stream",
     "text": [
      "C\n",
      "h\n",
      "e\n",
      "n\n",
      "n\n",
      "a\n",
      "i\n",
      "812.43\n",
      "722.64\n",
      "21.66\n",
      "65.14\n"
     ]
    }
   ],
   "source": [
    "# 10.For Loop Execution \n",
    "string=\"Chennai\"\n",
    "for i in string:\n",
    "    print(i)\n",
    "position=['812.43','722.64','21.66','65.14']\n",
    "for i in position:\n",
    " print (i)"
   ]
  },
  {
   "cell_type": "code",
   "execution_count": null,
   "metadata": {},
   "outputs": [],
   "source": []
  }
 ],
 "metadata": {
  "kernelspec": {
   "display_name": "Python 3",
   "language": "python",
   "name": "python3"
  },
  "language_info": {
   "codemirror_mode": {
    "name": "ipython",
    "version": 3
   },
   "file_extension": ".py",
   "mimetype": "text/x-python",
   "name": "python",
   "nbconvert_exporter": "python",
   "pygments_lexer": "ipython3",
   "version": "3.8.3"
  }
 },
 "nbformat": 4,
 "nbformat_minor": 4
}
