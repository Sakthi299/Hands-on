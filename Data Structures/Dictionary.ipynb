{
 "cells": [
  {
   "cell_type": "code",
   "execution_count": 1,
   "metadata": {},
   "outputs": [],
   "source": [
    "# 28. Python Dictionary\n",
    "db={7:\"salem\",1:\"chennai\",3:\"trichy\",4:\"mumbai\"}"
   ]
  },
  {
   "cell_type": "code",
   "execution_count": 2,
   "metadata": {},
   "outputs": [
    {
     "name": "stdout",
     "output_type": "stream",
     "text": [
      "Contents of Python Dictionary:\n",
      "7 -> salem\n",
      "1 -> chennai\n",
      "3 -> trichy\n",
      "4 -> mumbai\n"
     ]
    }
   ],
   "source": [
    "# 29. Contents of dictionary\n",
    "print(\"Contents of Python Dictionary:\")\n",
    "for i,j in db.items():\n",
    "    print(i,\"->\",j)"
   ]
  },
  {
   "cell_type": "code",
   "execution_count": 3,
   "metadata": {},
   "outputs": [
    {
     "name": "stdout",
     "output_type": "stream",
     "text": [
      "7\n",
      "1\n",
      "3\n",
      "4\n"
     ]
    }
   ],
   "source": [
    "# 30. Keys of Dictionary\n",
    "for k in db.keys():\n",
    "    print(k)"
   ]
  },
  {
   "cell_type": "code",
   "execution_count": 4,
   "metadata": {},
   "outputs": [
    {
     "name": "stdout",
     "output_type": "stream",
     "text": [
      "salem\n",
      "chennai\n",
      "trichy\n",
      "mumbai\n"
     ]
    }
   ],
   "source": [
    "# 31. Values of Dictionary\n",
    "for v in db.values():\n",
    "    print(v)"
   ]
  },
  {
   "cell_type": "code",
   "execution_count": 5,
   "metadata": {},
   "outputs": [
    {
     "name": "stdout",
     "output_type": "stream",
     "text": [
      "Total Elements of Dictionary:  4\n"
     ]
    }
   ],
   "source": [
    "# 32. Total size\n",
    "print(\"Total Elements of Dictionary: \",len(db))"
   ]
  },
  {
   "cell_type": "code",
   "execution_count": 7,
   "metadata": {},
   "outputs": [],
   "source": [
    "# 33. Dictionary Creation\n",
    "db={7:\"salem\",1:\"chennai\",3:\"trichy\",4:\"mumbai\",19:\"london\",21:\"newyork\"}"
   ]
  },
  {
   "cell_type": "code",
   "execution_count": 8,
   "metadata": {},
   "outputs": [
    {
     "name": "stdout",
     "output_type": "stream",
     "text": [
      "Before Deletion: \n",
      "{7: 'salem', 1: 'chennai', 3: 'trichy', 4: 'mumbai', 19: 'london', 21: 'newyork'}\n"
     ]
    }
   ],
   "source": [
    "# 34. Displaying\n",
    "print(\"Before Deletion: \")\n",
    "print(db)"
   ]
  },
  {
   "cell_type": "code",
   "execution_count": 9,
   "metadata": {},
   "outputs": [],
   "source": [
    "# 35. Deletion using del keyword\n",
    "del db[19]"
   ]
  },
  {
   "cell_type": "code",
   "execution_count": 10,
   "metadata": {},
   "outputs": [
    {
     "data": {
      "text/plain": [
       "'newyork'"
      ]
     },
     "execution_count": 10,
     "metadata": {},
     "output_type": "execute_result"
    }
   ],
   "source": [
    "# 36. Deletion using pop()\n",
    "db.pop(21)"
   ]
  },
  {
   "cell_type": "code",
   "execution_count": 11,
   "metadata": {},
   "outputs": [
    {
     "name": "stdout",
     "output_type": "stream",
     "text": [
      "After Deletion\n",
      "{7: 'salem', 1: 'chennai', 3: 'trichy', 4: 'mumbai'}\n"
     ]
    }
   ],
   "source": [
    "# 37. Displaying\n",
    "print(\"After Deletion\")\n",
    "print(db)"
   ]
  },
  {
   "cell_type": "code",
   "execution_count": 12,
   "metadata": {},
   "outputs": [
    {
     "name": "stdout",
     "output_type": "stream",
     "text": [
      "After Clear()\n",
      "{}\n"
     ]
    }
   ],
   "source": [
    "# 38. Deleting elements of Dictionary\n",
    "db.clear()\n",
    "print(\"After Clear()\")\n",
    "print(db)"
   ]
  },
  {
   "cell_type": "code",
   "execution_count": 13,
   "metadata": {},
   "outputs": [],
   "source": [
    "# 39. Deleting entire dictionary\n",
    "del db"
   ]
  },
  {
   "cell_type": "code",
   "execution_count": 16,
   "metadata": {},
   "outputs": [
    {
     "ename": "NameError",
     "evalue": "name 'db' is not defined",
     "output_type": "error",
     "traceback": [
      "\u001b[1;31m---------------------------------------------------------------------------\u001b[0m",
      "\u001b[1;31mNameError\u001b[0m                                 Traceback (most recent call last)",
      "\u001b[1;32m<ipython-input-16-704e5985edd3>\u001b[0m in \u001b[0;36m<module>\u001b[1;34m\u001b[0m\n\u001b[0;32m      1\u001b[0m \u001b[1;31m# 40. throws error on accessing deleted dictionary\u001b[0m\u001b[1;33m\u001b[0m\u001b[1;33m\u001b[0m\u001b[1;33m\u001b[0m\u001b[0m\n\u001b[1;32m----> 2\u001b[1;33m \u001b[0mprint\u001b[0m\u001b[1;33m(\u001b[0m\u001b[0mdb\u001b[0m\u001b[1;33m)\u001b[0m\u001b[1;33m\u001b[0m\u001b[1;33m\u001b[0m\u001b[0m\n\u001b[0m",
      "\u001b[1;31mNameError\u001b[0m: name 'db' is not defined"
     ]
    }
   ],
   "source": [
    "# 40. throws error on accessing deleted dictionary\n",
    "print(db)"
   ]
  }
 ],
 "metadata": {
  "kernelspec": {
   "display_name": "Python 3",
   "language": "python",
   "name": "python3"
  },
  "language_info": {
   "codemirror_mode": {
    "name": "ipython",
    "version": 3
   },
   "file_extension": ".py",
   "mimetype": "text/x-python",
   "name": "python",
   "nbconvert_exporter": "python",
   "pygments_lexer": "ipython3",
   "version": "3.8.3"
  }
 },
 "nbformat": 4,
 "nbformat_minor": 4
}
