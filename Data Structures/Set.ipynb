{
 "cells": [
  {
   "cell_type": "code",
   "execution_count": 1,
   "metadata": {},
   "outputs": [],
   "source": [
    "# 18. Python Set\n",
    "set1={'x','y','z'}\n",
    "set2={'a','b','c'}"
   ]
  },
  {
   "cell_type": "code",
   "execution_count": 2,
   "metadata": {},
   "outputs": [],
   "source": [
    "# 19. Set insertion\n",
    "set2.add('d')"
   ]
  },
  {
   "cell_type": "code",
   "execution_count": 3,
   "metadata": {},
   "outputs": [
    {
     "name": "stdout",
     "output_type": "stream",
     "text": [
      "4\n"
     ]
    }
   ],
   "source": [
    "# 20. Length of Set\n",
    "print(len(set2))  "
   ]
  },
  {
   "cell_type": "code",
   "execution_count": 4,
   "metadata": {},
   "outputs": [
    {
     "name": "stdout",
     "output_type": "stream",
     "text": [
      "Largest character of set:  z\n"
     ]
    }
   ],
   "source": [
    "#21. Largest element\n",
    "set3=set2.union(set1)\n",
    "ele=max(set3)\n",
    "print(\"Largest character of set: \",ele)"
   ]
  },
  {
   "cell_type": "code",
   "execution_count": 5,
   "metadata": {},
   "outputs": [
    {
     "name": "stdout",
     "output_type": "stream",
     "text": [
      "SET_2 is  {'b', 'd', 'c'}\n"
     ]
    }
   ],
   "source": [
    "# 22. Randomly pops out set\n",
    "set2.pop()                                \n",
    "print(\"SET_2 is \",set2)"
   ]
  },
  {
   "cell_type": "code",
   "execution_count": 7,
   "metadata": {},
   "outputs": [
    {
     "name": "stdout",
     "output_type": "stream",
     "text": [
      "Set 1\t:  {4, 5, 6, 7, 8, 9}\n",
      "Set 2\t:  {6, 8, 9, 15, 17, 51}\n"
     ]
    }
   ],
   "source": [
    "# 23.Set Operations\n",
    "set_a={4,5,6,7,8,9}\n",
    "set_b={15,51,6,17,8,9}\n",
    "print(\"Set 1\\t: \",set_a)\n",
    "print(\"Set 2\\t: \",set_b)"
   ]
  },
  {
   "cell_type": "code",
   "execution_count": 9,
   "metadata": {},
   "outputs": [
    {
     "name": "stdout",
     "output_type": "stream",
     "text": [
      "Union {A u B}\t\t:  {4, 5, 6, 7, 8, 9, 15, 17, 51}\n"
     ]
    }
   ],
   "source": [
    "# 24. Set union operation\n",
    "r1=set_a.union(set_b)\n",
    "print(\"Union {A u B}\\t\\t: \",r1)"
   ]
  },
  {
   "cell_type": "code",
   "execution_count": 11,
   "metadata": {},
   "outputs": [
    {
     "name": "stdout",
     "output_type": "stream",
     "text": [
      "Intersection {A n B}\t:  {8, 9, 6}\n"
     ]
    }
   ],
   "source": [
    "# 25. Set intersection operation\n",
    "r2=set_a.intersection(set_b)\n",
    "print(\"Intersection {A n B}\\t: \",r2)"
   ]
  },
  {
   "cell_type": "code",
   "execution_count": 13,
   "metadata": {},
   "outputs": [
    {
     "name": "stdout",
     "output_type": "stream",
     "text": [
      "Difference {A-B}\t\t:  {4, 5, 7}\n"
     ]
    }
   ],
   "source": [
    "# 26. Set difference operation\n",
    "r3=set_a.difference(set_b)\n",
    "print(\"Difference {A-B}\\t\\t: \",r3)"
   ]
  },
  {
   "cell_type": "code",
   "execution_count": 15,
   "metadata": {},
   "outputs": [
    {
     "name": "stdout",
     "output_type": "stream",
     "text": [
      "Symmetric Difference {A^B}\t:  {4, 5, 7, 15, 17, 51}\n"
     ]
    }
   ],
   "source": [
    "# 27. Set symmetric difference\n",
    "r4=set_a^set_b\n",
    "print(\"Symmetric Difference {A^B}\\t: \",r4)"
   ]
  },
  {
   "cell_type": "code",
   "execution_count": null,
   "metadata": {},
   "outputs": [],
   "source": []
  }
 ],
 "metadata": {
  "kernelspec": {
   "display_name": "Python 3",
   "language": "python",
   "name": "python3"
  },
  "language_info": {
   "codemirror_mode": {
    "name": "ipython",
    "version": 3
   },
   "file_extension": ".py",
   "mimetype": "text/x-python",
   "name": "python",
   "nbconvert_exporter": "python",
   "pygments_lexer": "ipython3",
   "version": "3.8.3"
  }
 },
 "nbformat": 4,
 "nbformat_minor": 4
}
