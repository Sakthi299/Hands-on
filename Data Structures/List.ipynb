{
 "cells": [
  {
   "cell_type": "code",
   "execution_count": 1,
   "metadata": {},
   "outputs": [],
   "source": [
    "# 1. Python List\n",
    "city=[]                                                           #empty list                   "
   ]
  },
  {
   "cell_type": "code",
   "execution_count": 2,
   "metadata": {},
   "outputs": [],
   "source": [
    "# 2.List Creation\n",
    "city=[\"Trichy\",\"Madurai\",\"Salem\"]"
   ]
  },
  {
   "cell_type": "code",
   "execution_count": 3,
   "metadata": {},
   "outputs": [],
   "source": [
    "# 3.List Update/Insertion\n",
    "city[1]=\"Chennai\"                                    \n",
    "city.append(\"Erode\")\n",
    "city.insert(1,\"Madurai\")                        "
   ]
  },
  {
   "cell_type": "code",
   "execution_count": 4,
   "metadata": {},
   "outputs": [],
   "source": [
    "# 4.List deletion\n",
    "del city[4]   "
   ]
  },
  {
   "cell_type": "code",
   "execution_count": 6,
   "metadata": {},
   "outputs": [
    {
     "name": "stdout",
     "output_type": "stream",
     "text": [
      "Size of List:   4\n"
     ]
    }
   ],
   "source": [
    "# 5. Finding size of list\n",
    "size=len(city)\n",
    "print(\"Size of List:  \",size)"
   ]
  },
  {
   "cell_type": "code",
   "execution_count": 7,
   "metadata": {},
   "outputs": [
    {
     "name": "stdout",
     "output_type": "stream",
     "text": [
      "Yes,the mentioned item is in this list.\n"
     ]
    }
   ],
   "source": [
    "# 6. Search the list\n",
    "if \"Chennai\" in city:\n",
    "    print(\"Yes,the mentioned item is in this list.\")"
   ]
  },
  {
   "cell_type": "code",
   "execution_count": 9,
   "metadata": {},
   "outputs": [
    {
     "name": "stdout",
     "output_type": "stream",
     "text": [
      "List Items: \n",
      "Trichy\n",
      "Madurai\n",
      "Chennai\n",
      "Salem\n"
     ]
    }
   ],
   "source": [
    "# 7. Display list\n",
    "print(\"List Items: \")\n",
    "for i in range(0,size):\n",
    "    print(city[i])\n"
   ]
  },
  {
   "cell_type": "code",
   "execution_count": 10,
   "metadata": {},
   "outputs": [
    {
     "name": "stdout",
     "output_type": "stream",
     "text": [
      "'Town' List:  ['Trichy', 'Madurai', 'Chennai']\n"
     ]
    }
   ],
   "source": [
    "# 8.  Copying content of one list to another\n",
    "town=city.copy()                                      \n",
    "town.pop()\n",
    "print(\"\\'Town\\' List: \",town)"
   ]
  },
  {
   "cell_type": "code",
   "execution_count": 19,
   "metadata": {},
   "outputs": [],
   "source": [
    "# 9. List creation methods\n",
    "even_num=[2,4,6,8,10]         \n",
    "\n",
    "odd_num=list((1,3,5,7,9))"
   ]
  },
  {
   "cell_type": "code",
   "execution_count": 13,
   "metadata": {},
   "outputs": [
    {
     "name": "stdout",
     "output_type": "stream",
     "text": [
      "No.of 5's in list 'odd_num':  3\n"
     ]
    }
   ],
   "source": [
    "# 10. Occurence count\n",
    "odd_num.insert(4,5)\n",
    "print(\"No.of 5's in list \\'odd_num\\': \",odd_num.count(5))"
   ]
  },
  {
   "cell_type": "code",
   "execution_count": 16,
   "metadata": {},
   "outputs": [
    {
     "name": "stdout",
     "output_type": "stream",
     "text": [
      "Reversed_list:  [10, 8, 6, 4, 2]\n"
     ]
    }
   ],
   "source": [
    "# 11. List reverse\n",
    "multiple_of_2=list(even_num)   \n",
    "multiple_of_2.reverse()                  \n",
    "print(\"Reversed_list: \",multiple_of_2)"
   ]
  },
  {
   "cell_type": "code",
   "execution_count": 17,
   "metadata": {},
   "outputs": [],
   "source": [
    "# 12. Extend List\n",
    "numbers=even_num+odd_num    "
   ]
  },
  {
   "cell_type": "code",
   "execution_count": 18,
   "metadata": {},
   "outputs": [
    {
     "name": "stdout",
     "output_type": "stream",
     "text": [
      "1\t2\t3\t4\t5\t5\t5\t6\t7\t8\t9\t10\t"
     ]
    }
   ],
   "source": [
    "# 13. Sort list\n",
    "numbers.sort()           \n",
    "for i in numbers:\n",
    "    print(i,end=\"\\t\")"
   ]
  }
 ],
 "metadata": {
  "kernelspec": {
   "display_name": "Python 3",
   "language": "python",
   "name": "python3"
  },
  "language_info": {
   "codemirror_mode": {
    "name": "ipython",
    "version": 3
   },
   "file_extension": ".py",
   "mimetype": "text/x-python",
   "name": "python",
   "nbconvert_exporter": "python",
   "pygments_lexer": "ipython3",
   "version": "3.8.3"
  }
 },
 "nbformat": 4,
 "nbformat_minor": 4
}
