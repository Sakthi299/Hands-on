{
 "cells": [
  {
   "cell_type": "code",
   "execution_count": 1,
   "metadata": {},
   "outputs": [],
   "source": [
    "# 25. Finding dimensions of array\n",
    "import numpy as np\n",
    "\n",
    "array_1 = np.array([1, 2, 3, 4, 5])\n",
    "array_2 = np.array([['a','b','c'], ['d','e','f']])\n",
    "array_3 = np.array([[[1, 2, 3], [4, 5, 6]], [['a','b','c'], ['x','y','z']]])"
   ]
  },
  {
   "cell_type": "code",
   "execution_count": 5,
   "metadata": {},
   "outputs": [
    {
     "name": "stdout",
     "output_type": "stream",
     "text": [
      "Contents of array:\n",
      " \n",
      "[1 2 3 4 5]\n"
     ]
    }
   ],
   "source": [
    "# 26. Printing array\n",
    "print(\"Contents of array:\\n \")\n",
    "print(array_1)"
   ]
  },
  {
   "cell_type": "code",
   "execution_count": 6,
   "metadata": {},
   "outputs": [
    {
     "name": "stdout",
     "output_type": "stream",
     "text": [
      "[['a' 'b' 'c']\n",
      " ['d' 'e' 'f']]\n"
     ]
    }
   ],
   "source": [
    "print(array_2)"
   ]
  },
  {
   "cell_type": "code",
   "execution_count": 7,
   "metadata": {},
   "outputs": [
    {
     "name": "stdout",
     "output_type": "stream",
     "text": [
      "[[['1' '2' '3']\n",
      "  ['4' '5' '6']]\n",
      "\n",
      " [['a' 'b' 'c']\n",
      "  ['x' 'y' 'z']]]\n"
     ]
    }
   ],
   "source": [
    "print(array_3)"
   ]
  },
  {
   "cell_type": "code",
   "execution_count": 10,
   "metadata": {},
   "outputs": [
    {
     "name": "stdout",
     "output_type": "stream",
     "text": [
      "DIMENSIONS_OF_ARRAY :  \n",
      "array_1 is 1 dimensional\n",
      "array_2 is 2 dimensional\n",
      "array_3 is 3 dimensional\n"
     ]
    }
   ],
   "source": [
    "# 27. ndim to find array dimension\n",
    "print(\"DIMENSIONS_OF_ARRAY :  \"+\"\\narray_1 is \"+str(array_1.ndim)+  \" dimensional\"+\n",
    "      \"\\narray_2 is \"+str(array_2.ndim)+\" dimensional\"+\n",
    "      \"\\narray_3 is \"+str(array_3.ndim)+\" dimensional\")"
   ]
  },
  {
   "cell_type": "code",
   "execution_count": null,
   "metadata": {},
   "outputs": [],
   "source": []
  }
 ],
 "metadata": {
  "kernelspec": {
   "display_name": "Python 3",
   "language": "python",
   "name": "python3"
  },
  "language_info": {
   "codemirror_mode": {
    "name": "ipython",
    "version": 3
   },
   "file_extension": ".py",
   "mimetype": "text/x-python",
   "name": "python",
   "nbconvert_exporter": "python",
   "pygments_lexer": "ipython3",
   "version": "3.8.3"
  }
 },
 "nbformat": 4,
 "nbformat_minor": 4
}
