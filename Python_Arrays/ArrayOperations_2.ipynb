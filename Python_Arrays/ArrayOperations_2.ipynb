{
 "cells": [
  {
   "cell_type": "code",
   "execution_count": 1,
   "metadata": {},
   "outputs": [
    {
     "name": "stdout",
     "output_type": "stream",
     "text": [
      "Array before insertion        :  23 43 56 78 89 \r\n"
     ]
    }
   ],
   "source": [
    "# 11. Array Insertion\n",
    "import array as arr\n",
    "a=arr.array('i',[23,43,56,78,89])\n",
    "print(\"Array before insertion        :  \",end=\"\")\n",
    "for i in a:\n",
    "    print(i,end=\" \")\n",
    "print(\"\\r\")\n"
   ]
  },
  {
   "cell_type": "code",
   "execution_count": 3,
   "metadata": {},
   "outputs": [
    {
     "name": "stdout",
     "output_type": "stream",
     "text": [
      "Array after insertion           : 23 36 36 36 43 56 78 89 95 95 \r\n"
     ]
    }
   ],
   "source": [
    "# 12. Inserting new elements\n",
    "a.insert(1,36)\n",
    "a.append(95) \n",
    "print(\"Array after insertion           : \",end=\"\")\n",
    "for i in a:\n",
    "    print(i,end=\" \")\n",
    "print(\"\\r\")"
   ]
  },
  {
   "cell_type": "code",
   "execution_count": 4,
   "metadata": {},
   "outputs": [
    {
     "name": "stdout",
     "output_type": "stream",
     "text": [
      "Array after removing '23'  : 36 36 36 43 56 78 89 95 95 \r\n"
     ]
    }
   ],
   "source": [
    "# 13.Removing an element \n",
    "a.remove(23)\n",
    "print(\"Array after removing \\'23\\'  : \",end=\"\")\n",
    "for i in a:\n",
    "    print(i,end=\" \")\n",
    "print(\"\\r\")"
   ]
  },
  {
   "cell_type": "code",
   "execution_count": 5,
   "metadata": {},
   "outputs": [
    {
     "name": "stdout",
     "output_type": "stream",
     "text": [
      "Array after extending          : 36 36 36 43 56 78 89 95 95 84 73 67 40 \r\n"
     ]
    }
   ],
   "source": [
    "# 14.Extending current array\n",
    "b=arr.array('i',[84,73,67,40])  \n",
    "a.extend(b)\n",
    "print(\"Array after extending          : \",end=\"\")\n",
    "for i in a:\n",
    "    print(i,end=\" \")\n",
    "print(\"\\r\")"
   ]
  },
  {
   "cell_type": "code",
   "execution_count": 6,
   "metadata": {},
   "outputs": [],
   "source": [
    "# 15.Deleting array\n",
    "del(a)"
   ]
  },
  {
   "cell_type": "code",
   "execution_count": 8,
   "metadata": {},
   "outputs": [
    {
     "ename": "NameError",
     "evalue": "name 'a' is not defined",
     "output_type": "error",
     "traceback": [
      "\u001b[1;31m---------------------------------------------------------------------------\u001b[0m",
      "\u001b[1;31mNameError\u001b[0m                                 Traceback (most recent call last)",
      "\u001b[1;32m<ipython-input-8-a94571991a29>\u001b[0m in \u001b[0;36m<module>\u001b[1;34m\u001b[0m\n\u001b[0;32m      1\u001b[0m \u001b[1;31m# 36. Throws error on accessing deleted array\u001b[0m\u001b[1;33m\u001b[0m\u001b[1;33m\u001b[0m\u001b[1;33m\u001b[0m\u001b[0m\n\u001b[1;32m----> 2\u001b[1;33m \u001b[0mprint\u001b[0m\u001b[1;33m(\u001b[0m\u001b[0ma\u001b[0m\u001b[1;33m)\u001b[0m\u001b[1;33m\u001b[0m\u001b[1;33m\u001b[0m\u001b[0m\n\u001b[0m",
      "\u001b[1;31mNameError\u001b[0m: name 'a' is not defined"
     ]
    }
   ],
   "source": [
    "# 16. Throws error on accessing deleted array\n",
    "print(a)"
   ]
  },
  {
   "cell_type": "code",
   "execution_count": null,
   "metadata": {},
   "outputs": [],
   "source": []
  }
 ],
 "metadata": {
  "kernelspec": {
   "display_name": "Python 3",
   "language": "python",
   "name": "python3"
  },
  "language_info": {
   "codemirror_mode": {
    "name": "ipython",
    "version": 3
   },
   "file_extension": ".py",
   "mimetype": "text/x-python",
   "name": "python",
   "nbconvert_exporter": "python",
   "pygments_lexer": "ipython3",
   "version": "3.8.3"
  }
 },
 "nbformat": 4,
 "nbformat_minor": 4
}
