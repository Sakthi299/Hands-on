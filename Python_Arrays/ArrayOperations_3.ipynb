{
 "cells": [
  {
   "cell_type": "code",
   "execution_count": 1,
   "metadata": {},
   "outputs": [],
   "source": [
    "# 17. Slicing array\n",
    "import array as arr\n",
    "a=arr.array('u',['a','b','c','d','e','f','g','h','i','j'])\n"
   ]
  },
  {
   "cell_type": "code",
   "execution_count": 2,
   "metadata": {},
   "outputs": [
    {
     "name": "stdout",
     "output_type": "stream",
     "text": [
      "Whole array: \n",
      "  a   b   c   d   e   f   g   h   i   j \r\n"
     ]
    }
   ],
   "source": [
    "# 18. Accessing Whole array\n",
    "slice_1=arr.array('u')\n",
    "slice_1=a[:]\n",
    "print(\"Whole array: \")\n",
    "for i in slice_1:\n",
    "    print(\" \",i,end=\" \")\n",
    "print(\"\\r\")"
   ]
  },
  {
   "cell_type": "code",
   "execution_count": 3,
   "metadata": {},
   "outputs": [
    {
     "name": "stdout",
     "output_type": "stream",
     "text": [
      "From beginning to middle: \n",
      "  a   b   c   d   e \r\n"
     ]
    }
   ],
   "source": [
    "# 19. From beginning to middle\n",
    "slice_1=a[:5]\n",
    "print(\"From beginning to middle: \")\n",
    "for i in slice_1:\n",
    "    print(\" \",i,end=\" \")\n",
    "print(\"\\r\")"
   ]
  },
  {
   "cell_type": "code",
   "execution_count": 4,
   "metadata": {},
   "outputs": [
    {
     "name": "stdout",
     "output_type": "stream",
     "text": [
      "From middle to end: \n",
      "  f   g   h   i   j \r\n"
     ]
    }
   ],
   "source": [
    "# 20. From middle to end\n",
    "slice_1=a[-5:]\n",
    "print(\"From middle to end: \")\n",
    "for i in slice_1:\n",
    "    print(\" \",i,end=\" \")\n",
    "print(\"\\r\")"
   ]
  },
  {
   "cell_type": "code",
   "execution_count": 5,
   "metadata": {},
   "outputs": [
    {
     "name": "stdout",
     "output_type": "stream",
     "text": [
      "From 'd' to end: \n",
      "  d   e   f   g   h   i   j \r\n"
     ]
    }
   ],
   "source": [
    "# 21.From 'd' to end\n",
    "slice_1=a[3:]\n",
    "print(\"From 'd' to end: \")\n",
    "for i in splice_1:\n",
    "    print(\" \",i,end=\" \")\n",
    "print(\"\\r\")"
   ]
  },
  {
   "cell_type": "code",
   "execution_count": 6,
   "metadata": {},
   "outputs": [
    {
     "name": "stdout",
     "output_type": "stream",
     "text": [
      "From 'd' to 'i': \n",
      "  d   e   f   g   h \r\n"
     ]
    }
   ],
   "source": [
    "# 22. From 'd' to 'i'\n",
    "slice_1=a[3:8]\n",
    "print(\"From 'd' to 'i': \")\n",
    "for i in slice_1:\n",
    "    print(\" \",i,end=\" \")\n",
    "print(\"\\r\")"
   ]
  },
  {
   "cell_type": "code",
   "execution_count": 7,
   "metadata": {},
   "outputs": [
    {
     "name": "stdout",
     "output_type": "stream",
     "text": [
      "array('u', 'jihgfedcba')\n"
     ]
    }
   ],
   "source": [
    "# 23. Reversing whole array\n",
    "print(a[::-1])"
   ]
  },
  {
   "cell_type": "code",
   "execution_count": null,
   "metadata": {},
   "outputs": [],
   "source": []
  }
 ],
 "metadata": {
  "kernelspec": {
   "display_name": "Python 3",
   "language": "python",
   "name": "python3"
  },
  "language_info": {
   "codemirror_mode": {
    "name": "ipython",
    "version": 3
   },
   "file_extension": ".py",
   "mimetype": "text/x-python",
   "name": "python",
   "nbconvert_exporter": "python",
   "pygments_lexer": "ipython3",
   "version": "3.8.3"
  }
 },
 "nbformat": 4,
 "nbformat_minor": 4
}
