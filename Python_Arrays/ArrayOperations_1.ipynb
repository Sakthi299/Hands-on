{
 "cells": [
  {
   "cell_type": "code",
   "execution_count": 2,
   "metadata": {},
   "outputs": [
    {
     "name": "stdout",
     "output_type": "stream",
     "text": [
      "Length of array is  8\n"
     ]
    }
   ],
   "source": [
    "# 1. Length of array\n",
    "import array as arr\n",
    "q=arr.array('i',[11,65,11,72,45,33,11,98]) \n",
    "l = len(q)\n",
    "print(\"Length of array is \",l)"
   ]
  },
  {
   "cell_type": "code",
   "execution_count": 3,
   "metadata": {},
   "outputs": [
    {
     "name": "stdout",
     "output_type": "stream",
     "text": [
      "11 occured  3  times\n"
     ]
    }
   ],
   "source": [
    "# 2. Frequency count\n",
    "print(\"11 occured \",q.count(11),\" times\")"
   ]
  },
  {
   "cell_type": "code",
   "execution_count": 4,
   "metadata": {},
   "outputs": [
    {
     "name": "stdout",
     "output_type": "stream",
     "text": [
      "Index position of 72 is  3\n"
     ]
    }
   ],
   "source": [
    "# 3. Index of the element\n",
    "print(\"Index position of 72 is \",q.index(72))"
   ]
  },
  {
   "cell_type": "code",
   "execution_count": 5,
   "metadata": {},
   "outputs": [
    {
     "name": "stdout",
     "output_type": "stream",
     "text": [
      "Original array : 11 65 11 72 45 33 11 98 \r\n"
     ]
    }
   ],
   "source": [
    "# 4. Contents of array before popping\n",
    "print(\"Original array : \",end=\"\")\n",
    "for i in range(0,l):\n",
    "    print(q[i],end=\" \")\n",
    "print(\"\\r\")"
   ]
  },
  {
   "cell_type": "code",
   "execution_count": 6,
   "metadata": {},
   "outputs": [
    {
     "name": "stdout",
     "output_type": "stream",
     "text": [
      "The popped element is  98\n"
     ]
    }
   ],
   "source": [
    "#5. Removing last element\n",
    "print(\"The popped element is \",q.pop())"
   ]
  },
  {
   "cell_type": "code",
   "execution_count": 7,
   "metadata": {},
   "outputs": [
    {
     "name": "stdout",
     "output_type": "stream",
     "text": [
      "The popped element is  33\n"
     ]
    }
   ],
   "source": [
    "# 6.Removing 6th element \"33\"\n",
    "print(\"The popped element is \",q.pop(5))"
   ]
  },
  {
   "cell_type": "code",
   "execution_count": 8,
   "metadata": {},
   "outputs": [
    {
     "name": "stdout",
     "output_type": "stream",
     "text": [
      "Popped array : 11 65 11 72 45 11 \r\n"
     ]
    }
   ],
   "source": [
    "# 7.Contents of array after popping\n",
    "print(\"Popped array : \",end=\"\")\n",
    "for i in q:\n",
    "    print(i,end=\" \")\n",
    "print(\"\\r\")"
   ]
  },
  {
   "cell_type": "code",
   "execution_count": 9,
   "metadata": {},
   "outputs": [
    {
     "name": "stdout",
     "output_type": "stream",
     "text": [
      "Before reversing : 11 65 11 72 45 11 \r\n"
     ]
    }
   ],
   "source": [
    "# 8. Contents of array before reversing\n",
    "print(\"Before reversing : \",end=\"\")\n",
    "for i in q:\n",
    "    print(i,end=\" \")\n",
    "print(\"\\r\")    "
   ]
  },
  {
   "cell_type": "code",
   "execution_count": 10,
   "metadata": {},
   "outputs": [
    {
     "name": "stdout",
     "output_type": "stream",
     "text": [
      "After reversing : 11 45 72 11 65 11 "
     ]
    }
   ],
   "source": [
    "# 9. Reverse the array\n",
    "q.reverse()\n",
    "print(\"After reversing : \",end=\"\")\n",
    "for i in q:\n",
    "    print(i,end=\" \")"
   ]
  },
  {
   "cell_type": "code",
   "execution_count": 11,
   "metadata": {},
   "outputs": [
    {
     "name": "stdout",
     "output_type": "stream",
     "text": [
      "Original Array: \n",
      "  23   46   75   89   90 \r\n",
      "Changed Array: \n",
      "  23   34   58   62   90 "
     ]
    }
   ],
   "source": [
    "# 10. Mutable Arrays\n",
    "import array as arr\n",
    "numbers=arr.array('i',[23,46,75,89,90])      #create\n",
    "print(\"Original Array: \")\n",
    "for i in numbers:\n",
    "    print(\" \",i,end=\" \")\n",
    "print(\"\\r\")\n",
    "numbers[1:4]=arr.array('i',[34,58,62])  \n",
    "print(\"Changed Array: \")\n",
    "for i in numbers:\n",
    "    print(\" \",i,end=\" \")"
   ]
  },
  {
   "cell_type": "code",
   "execution_count": null,
   "metadata": {},
   "outputs": [],
   "source": []
  }
 ],
 "metadata": {
  "kernelspec": {
   "display_name": "Python 3",
   "language": "python",
   "name": "python3"
  },
  "language_info": {
   "codemirror_mode": {
    "name": "ipython",
    "version": 3
   },
   "file_extension": ".py",
   "mimetype": "text/x-python",
   "name": "python",
   "nbconvert_exporter": "python",
   "pygments_lexer": "ipython3",
   "version": "3.8.3"
  }
 },
 "nbformat": 4,
 "nbformat_minor": 4
}
