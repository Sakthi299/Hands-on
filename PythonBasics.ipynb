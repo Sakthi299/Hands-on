{
 "cells": [
  {
   "cell_type": "code",
   "execution_count": 25,
   "metadata": {},
   "outputs": [
    {
     "name": "stdout",
     "output_type": "stream",
     "text": [
      "10\n",
      "<class 'int'>\n",
      "Scipy\n",
      "<class 'str'>\n",
      "Type a integer20\n",
      "20\n",
      "<class 'int'>\n"
     ]
    }
   ],
   "source": [
    "# 1. Dynamically typed Language\n",
    "n=10\n",
    "print(n) \n",
    "print(type(n))\n",
    "n=\"Scipy\"\n",
    "print(n)\n",
    "print(type(n))\n",
    "n=int(input(\"Type a integer\"))\n",
    "print(n)\n",
    "print(type(n))"
   ]
  },
  {
   "cell_type": "code",
   "execution_count": 9,
   "metadata": {},
   "outputs": [
    {
     "name": "stdout",
     "output_type": "stream",
     "text": [
      "John Lincoln 256\n"
     ]
    }
   ],
   "source": [
    "# 2. Variable Assignment\n",
    "x,y,z='John','Lincoln','256'\n",
    "print(x,y,z)"
   ]
  },
  {
   "cell_type": "code",
   "execution_count": 19,
   "metadata": {},
   "outputs": [
    {
     "name": "stdout",
     "output_type": "stream",
     "text": [
      "20  is Largest\n"
     ]
    }
   ],
   "source": [
    "# 3. Functions\n",
    "x=True\n",
    "def  large(a,b):\n",
    "    if(a>b):\n",
    "        print(a ,\" is Largest\")\n",
    "    else:\n",
    "        print(b ,\"is Largest\")\n",
    "if(x):\n",
    "    large(20,19)\n",
    "        "
   ]
  },
  {
   "cell_type": "code",
   "execution_count": 28,
   "metadata": {},
   "outputs": [
    {
     "name": "stdout",
     "output_type": "stream",
     "text": [
      "Area of Square:  100\n",
      "Area of Rectangle:  30\n",
      "Area of Circle:  28.26\n"
     ]
    }
   ],
   "source": [
    "# 4. Anonymous Function\n",
    "squ=lambda a:(a*a)\n",
    "x=squ(10)\n",
    "rect=lambda a,b:(a*b)\n",
    "y=rect(2,15)\n",
    "circle=lambda r:(3.14*r*r)\n",
    "z=circle(3)\n",
    "print(\"Area of Square: \",x)\n",
    "print(\"Area of Rectangle: \",y)\n",
    "print(\"Area of Circle: \",round(z,2))"
   ]
  },
  {
   "cell_type": "code",
   "execution_count": 29,
   "metadata": {},
   "outputs": [
    {
     "name": "stdout",
     "output_type": "stream",
     "text": [
      "Number 20 is in list\n"
     ]
    }
   ],
   "source": [
    "# 5. Array\n",
    "x=True\n",
    "a=[10,20,30,40,50]\n",
    "i=11\n",
    "j=20\n",
    "if(i in a and x):\n",
    "    print(\"Number 11 is in list\")\n",
    "elif(j in a and x):\n",
    "    print(\"Number 20 is in list\")"
   ]
  },
  {
   "cell_type": "code",
   "execution_count": null,
   "metadata": {},
   "outputs": [],
   "source": []
  }
 ],
 "metadata": {
  "kernelspec": {
   "display_name": "Python 3",
   "language": "python",
   "name": "python3"
  },
  "language_info": {
   "codemirror_mode": {
    "name": "ipython",
    "version": 3
   },
   "file_extension": ".py",
   "mimetype": "text/x-python",
   "name": "python",
   "nbconvert_exporter": "python",
   "pygments_lexer": "ipython3",
   "version": "3.8.3"
  }
 },
 "nbformat": 4,
 "nbformat_minor": 4
}
