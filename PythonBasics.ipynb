{
 "cells": [
  {
   "cell_type": "code",
   "execution_count": 31,
   "metadata": {},
   "outputs": [
    {
     "name": "stdout",
     "output_type": "stream",
     "text": [
      "10\n",
      "<class 'int'>\n",
      "Scipy\n",
      "<class 'str'>\n",
      "Type a integer30\n",
      "30\n",
      "<class 'int'>\n"
     ]
    }
   ],
   "source": [
    "# 1. Dynamically typed Language\n",
    "num=10\n",
    "print(num) \n",
    "print(type(num))\n",
    "num=\"Scipy\"\n",
    "print(num)\n",
    "print(type(num))\n",
    "num=int(input(\"Type a integer\"))\n",
    "print(num)\n",
    "print(type(num))"
   ]
  },
  {
   "cell_type": "code",
   "execution_count": 32,
   "metadata": {},
   "outputs": [
    {
     "name": "stdout",
     "output_type": "stream",
     "text": [
      "John Lincoln 256\n"
     ]
    }
   ],
   "source": [
    "# 2. Variable Assignment\n",
    "person_1,person_2,person_3='John','Lincoln','256'\n",
    "print(person_1,person_2,person_3)"
   ]
  },
  {
   "cell_type": "code",
   "execution_count": 33,
   "metadata": {},
   "outputs": [
    {
     "name": "stdout",
     "output_type": "stream",
     "text": [
      "20  is Largest\n"
     ]
    }
   ],
   "source": [
    "# 3. Functions\n",
    "flag=True\n",
    "def  large(no_1,no_2):\n",
    "    if(no_1>no_2):\n",
    "        print(no_1 ,\" is Largest\")\n",
    "    else:\n",
    "        print(no_2,\"is Largest\")\n",
    "if(flag):\n",
    "    large(20,19)\n",
    "        "
   ]
  },
  {
   "cell_type": "code",
   "execution_count": 36,
   "metadata": {},
   "outputs": [
    {
     "name": "stdout",
     "output_type": "stream",
     "text": [
      "Area of Square:  100\n",
      "Area of Rectangle:  30\n",
      "Area of Circle:  28.26\n"
     ]
    }
   ],
   "source": [
    "# 4. Anonymous Function\n",
    "square=lambda side:(side*side)\n",
    "area_1=square(10)\n",
    "rectangle=lambda height,breadth:(height*breadth)\n",
    "area_2=rectangle(2,15)\n",
    "circle=lambda radius:(3.14*radius*radius)\n",
    "area_3=circle(3)\n",
    "print(\"Area of Square: \",area_1)\n",
    "print(\"Area of Rectangle: \",area_2)\n",
    "print(\"Area of Circle: \",round(area_3,2))"
   ]
  },
  {
   "cell_type": "code",
   "execution_count": 37,
   "metadata": {},
   "outputs": [
    {
     "name": "stdout",
     "output_type": "stream",
     "text": [
      "Number 20 is in list\n"
     ]
    }
   ],
   "source": [
    "# 5. Array\n",
    "flag=True\n",
    "array=[10,20,30,40,50]\n",
    "key_1=11\n",
    "key_2=20\n",
    "if(i in array and flag):\n",
    "    print(\"Number 11 is in list\")\n",
    "elif(j in array and flag):\n",
    "    print(\"Number 20 is in list\")"
   ]
  }
 ],
 "metadata": {
  "kernelspec": {
   "display_name": "Python 3",
   "language": "python",
   "name": "python3"
  },
  "language_info": {
   "codemirror_mode": {
    "name": "ipython",
    "version": 3
   },
   "file_extension": ".py",
   "mimetype": "text/x-python",
   "name": "python",
   "nbconvert_exporter": "python",
   "pygments_lexer": "ipython3",
   "version": "3.8.3"
  }
 },
 "nbformat": 4,
 "nbformat_minor": 4
}
