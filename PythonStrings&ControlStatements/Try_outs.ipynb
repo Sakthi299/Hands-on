{
 "cells": [
  {
   "cell_type": "code",
   "execution_count": 1,
   "metadata": {},
   "outputs": [
    {
     "name": "stdout",
     "output_type": "stream",
     "text": [
      "10 chairs\n",
      "10 tables\n",
      "20 chairs\n",
      "20 tables\n"
     ]
    }
   ],
   "source": [
    "# 1. Nested_Loops\n",
    "numbers=[10,20]\n",
    "items=[\"chairs\",\"tables\"]\n",
    "for x in numbers:\n",
    "    for y in items:\n",
    "        print(x,y)"
   ]
  },
  {
   "cell_type": "code",
   "execution_count": 3,
   "metadata": {},
   "outputs": [
    {
     "name": "stdout",
     "output_type": "stream",
     "text": [
      "90\n"
     ]
    }
   ],
   "source": [
    "# 2. range()\n",
    "x=0\n",
    "for i in range(10):\n",
    "    for j in range(-1,-10,-1):\n",
    "        x+=1\n",
    "print(x)"
   ]
  },
  {
   "cell_type": "code",
   "execution_count": 7,
   "metadata": {},
   "outputs": [
    {
     "name": "stdout",
     "output_type": "stream",
     "text": [
      "time.struct_time(tm_year=1987, tm_mon=6, tm_mday=2, tm_hour=0, tm_min=0, tm_sec=0, tm_wday=1, tm_yday=153, tm_isdst=-1)\n"
     ]
    }
   ],
   "source": [
    "# 3. timestamp\n",
    "import time\n",
    "str='02/06/1987'\n",
    "datetime_value = time.strptime(str,\"%d/%m/%Y\")\n",
    "print(datetime_value)"
   ]
  },
  {
   "cell_type": "code",
   "execution_count": 9,
   "metadata": {},
   "outputs": [
    {
     "name": "stdout",
     "output_type": "stream",
     "text": [
      "13\n"
     ]
    }
   ],
   "source": [
    "# 4. typecast\n",
    "print(int('1')+12)"
   ]
  },
  {
   "cell_type": "code",
   "execution_count": 16,
   "metadata": {},
   "outputs": [
    {
     "name": "stdout",
     "output_type": "stream",
     "text": [
      "9\n"
     ]
    }
   ],
   "source": [
    "# 5.flooring\n",
    "no_1 =29\n",
    "no_2 =3\n",
    "print(no_1//no_2)"
   ]
  },
  {
   "cell_type": "code",
   "execution_count": 18,
   "metadata": {},
   "outputs": [
    {
     "name": "stdout",
     "output_type": "stream",
     "text": [
      "zz\n"
     ]
    }
   ],
   "source": [
    "# 6. string slicing\n",
    "string='quizzard chicago'\n",
    "print(string[3:5])"
   ]
  },
  {
   "cell_type": "code",
   "execution_count": 20,
   "metadata": {},
   "outputs": [
    {
     "name": "stdout",
     "output_type": "stream",
     "text": [
      "Bye World\n"
     ]
    }
   ],
   "source": [
    "# 7.  Constructor reinitialise\n",
    "class test:\n",
    "    def __init__(self):\n",
    "        print(\"Hello World\")\n",
    "    def __init__(self):\n",
    "        print(\"Bye World\")\n",
    "obj=test()"
   ]
  }
 ],
 "metadata": {
  "kernelspec": {
   "display_name": "Python 3",
   "language": "python",
   "name": "python3"
  },
  "language_info": {
   "codemirror_mode": {
    "name": "ipython",
    "version": 3
   },
   "file_extension": ".py",
   "mimetype": "text/x-python",
   "name": "python",
   "nbconvert_exporter": "python",
   "pygments_lexer": "ipython3",
   "version": "3.8.3"
  }
 },
 "nbformat": 4,
 "nbformat_minor": 4
}
