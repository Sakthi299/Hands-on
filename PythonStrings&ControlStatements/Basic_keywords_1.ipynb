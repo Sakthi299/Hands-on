{
 "cells": [
  {
   "cell_type": "code",
   "execution_count": 7,
   "metadata": {},
   "outputs": [],
   "source": [
    "# 1. Python_Variables\n",
    "a=20\n",
    "c=a"
   ]
  },
  {
   "cell_type": "code",
   "execution_count": 8,
   "metadata": {},
   "outputs": [
    {
     "name": "stdout",
     "output_type": "stream",
     "text": [
      "140720862869888\n",
      "140720862869888\n"
     ]
    }
   ],
   "source": [
    "# 2. object Identity\n",
    "print(id(a))\n",
    "print(id(c))                #id remains same"
   ]
  },
  {
   "cell_type": "code",
   "execution_count": 9,
   "metadata": {},
   "outputs": [
    {
     "name": "stdout",
     "output_type": "stream",
     "text": [
      "140720862870848\n"
     ]
    }
   ],
   "source": [
    "# 3. after reassigning\n",
    "a=50\n",
    "print(id(a))                  # id changes"
   ]
  },
  {
   "cell_type": "code",
   "execution_count": 13,
   "metadata": {},
   "outputs": [
    {
     "name": "stdout",
     "output_type": "stream",
     "text": [
      "200 \n",
      " 200 \n",
      " 200\n"
     ]
    }
   ],
   "source": [
    "# 4. Duplicate assignment\n",
    "num_1=num_2=num_3=200\n",
    "print(num_1,\"\\n\",num_2,\"\\n\",num_3)"
   ]
  },
  {
   "cell_type": "code",
   "execution_count": 20,
   "metadata": {},
   "outputs": [
    {
     "name": "stdout",
     "output_type": "stream",
     "text": [
      "20\n",
      "50\n",
      "70\n"
     ]
    }
   ],
   "source": [
    "# 5. Multiple assignment\n",
    "var_1,var_2,var_3=20,50,70\n",
    "print(var_1,var_2,var_3,sep=\"\\n\")"
   ]
  },
  {
   "cell_type": "code",
   "execution_count": 25,
   "metadata": {},
   "outputs": [
    {
     "name": "stdout",
     "output_type": "stream",
     "text": [
      "<class 'float'>\n",
      "Is it float ! True\n"
     ]
    }
   ],
   "source": [
    "# 6. Checking datatypes\n",
    "a=40.55\n",
    "print(type(a))\n",
    "print(\"Is it float !\",isinstance(a,float))"
   ]
  },
  {
   "cell_type": "code",
   "execution_count": 29,
   "metadata": {},
   "outputs": [
    {
     "name": "stdout",
     "output_type": "stream",
     "text": [
      "Hi.I am good\n"
     ]
    }
   ],
   "source": [
    "# 7. Strings\n",
    "sentence=\"Hi.I am good\"\n",
    "print(sentence)"
   ]
  },
  {
   "cell_type": "code",
   "execution_count": 30,
   "metadata": {},
   "outputs": [
    {
     "name": "stdout",
     "output_type": "stream",
     "text": [
      "Hi.\n",
      "I am good.\n",
      "How are you?\n"
     ]
    }
   ],
   "source": [
    "sentence=\"\"\"Hi.\n",
    "I am good.\n",
    "How are you?\"\"\"\n",
    "print(sentence)"
   ]
  },
  {
   "cell_type": "code",
   "execution_count": 33,
   "metadata": {},
   "outputs": [
    {
     "name": "stdout",
     "output_type": "stream",
     "text": [
      "Very Very  Good\n"
     ]
    }
   ],
   "source": [
    "# 8. Repetition operator\n",
    "print(\"Very \"*2,\"Good\")"
   ]
  },
  {
   "cell_type": "code",
   "execution_count": 35,
   "metadata": {},
   "outputs": [
    {
     "name": "stdout",
     "output_type": "stream",
     "text": [
      "senthil\n"
     ]
    }
   ],
   "source": [
    "# 9. Slicing Strings\n",
    "sent_1=\"drivesenthilator\"\n",
    "print(sent_1[5:12])"
   ]
  },
  {
   "cell_type": "code",
   "execution_count": 47,
   "metadata": {},
   "outputs": [
    {
     "ename": "AssertionError",
     "evalue": "",
     "output_type": "error",
     "traceback": [
      "\u001b[1;31m---------------------------------------------------------------------------\u001b[0m",
      "\u001b[1;31mAssertionError\u001b[0m                            Traceback (most recent call last)",
      "\u001b[1;32m<ipython-input-47-57b11ba044e6>\u001b[0m in \u001b[0;36m<module>\u001b[1;34m\u001b[0m\n\u001b[0;32m      2\u001b[0m \u001b[0mnum_1\u001b[0m\u001b[1;33m=\u001b[0m\u001b[1;36m20\u001b[0m\u001b[1;33m\u001b[0m\u001b[1;33m\u001b[0m\u001b[0m\n\u001b[0;32m      3\u001b[0m \u001b[0mnum_2\u001b[0m\u001b[1;33m=\u001b[0m\u001b[1;36m30\u001b[0m\u001b[1;33m\u001b[0m\u001b[1;33m\u001b[0m\u001b[0m\n\u001b[1;32m----> 4\u001b[1;33m \u001b[1;32massert\u001b[0m \u001b[0mnum_1\u001b[0m \u001b[1;33m>=\u001b[0m\u001b[0mnum_2\u001b[0m\u001b[1;33m\u001b[0m\u001b[1;33m\u001b[0m\u001b[0m\n\u001b[0m\u001b[0;32m      5\u001b[0m \u001b[0mnum_1\u001b[0m\u001b[1;33m=\u001b[0m\u001b[0mnum_1\u001b[0m\u001b[1;33m+\u001b[0m\u001b[0mnum_2\u001b[0m\u001b[1;33m\u001b[0m\u001b[1;33m\u001b[0m\u001b[0m\n",
      "\u001b[1;31mAssertionError\u001b[0m: "
     ]
    }
   ],
   "source": [
    "# 10. keyword in python\n",
    "num_1=20\n",
    "num_2=30\n",
    "assert num_1 >=num_2               #validate condition\n",
    "num_1=num_1+num_2"
   ]
  },
  {
   "cell_type": "code",
   "execution_count": 48,
   "metadata": {},
   "outputs": [
    {
     "name": "stdout",
     "output_type": "stream",
     "text": [
      "20\n"
     ]
    }
   ],
   "source": [
    "num_1=num_1+num_2\n",
    "assert num_1 > num_2\n",
    "difference=num_1-num_2\n",
    "print(difference)"
   ]
  }
 ],
 "metadata": {
  "kernelspec": {
   "display_name": "Python 3",
   "language": "python",
   "name": "python3"
  },
  "language_info": {
   "codemirror_mode": {
    "name": "ipython",
    "version": 3
   },
   "file_extension": ".py",
   "mimetype": "text/x-python",
   "name": "python",
   "nbconvert_exporter": "python",
   "pygments_lexer": "ipython3",
   "version": "3.8.3"
  }
 },
 "nbformat": 4,
 "nbformat_minor": 4
}
