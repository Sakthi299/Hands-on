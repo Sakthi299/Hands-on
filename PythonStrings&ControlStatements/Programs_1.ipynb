{
 "cells": [
  {
   "cell_type": "code",
   "execution_count": 5,
   "metadata": {},
   "outputs": [
    {
     "name": "stdout",
     "output_type": "stream",
     "text": [
      "Enter sequence_end_no: 6\n",
      "1 \n",
      "1 2 \n",
      "1 2 3 \n",
      "1 2 3 4 \n",
      "1 2 3 4 5 \n"
     ]
    }
   ],
   "source": [
    "# 1. Sequence_print\n",
    "lastNo=int(input(\"Enter sequence_end_no: \"))\n",
    "for row in range(1, lastNo):\n",
    "    for column in range(1,row+1):\n",
    "        print(column, end=' ')\n",
    "    print(\"\\r\")"
   ]
  },
  {
   "cell_type": "code",
   "execution_count": 8,
   "metadata": {},
   "outputs": [
    {
     "name": "stdout",
     "output_type": "stream",
     "text": [
      "Enter number:  9994019326\n",
      "Total digits are:  10\n"
     ]
    }
   ],
   "source": [
    "# 2. count total no_of_digits\n",
    "num = int(input(\"Enter number:  \"))\n",
    "ct = 0\n",
    "while num != 0:\n",
    "    num //= 10\n",
    "    ct+= 1\n",
    "print(\"Total digits are: \", ct)"
   ]
  },
  {
   "cell_type": "code",
   "execution_count": 12,
   "metadata": {},
   "outputs": [],
   "source": [
    "# 3. Append middle of strings\n",
    "def mid(str_,str_2):\n",
    "    mid_pos=int(len(str_1)/2)\n",
    "    str_2=str_1[:mid_pos:]+str_2+str_1[mid_pos:]\n",
    "    print(\"Appended_String: \",str_2)"
   ]
  },
  {
   "cell_type": "code",
   "execution_count": 13,
   "metadata": {},
   "outputs": [
    {
     "name": "stdout",
     "output_type": "stream",
     "text": [
      "Original_String: Tota\n",
      "Extra_String: yo\n",
      "Appended_String:  Toyota\n"
     ]
    }
   ],
   "source": [
    "str_1=input(\"Original_String: \")\n",
    "str_2=input(\"Extra_String: \")\n",
    "mid(str_1,str_2)"
   ]
  },
  {
   "cell_type": "code",
   "execution_count": 23,
   "metadata": {},
   "outputs": [],
   "source": [
    "# 4. combination of upper & lower cases\n",
    "low=[]\n",
    "high=[]\n",
    "def sep(str_1):\n",
    "    for i in str_1:\n",
    "        if(i.islower()):\n",
    "            low.append(i)\n",
    "        else:\n",
    "            high.append(i)\n",
    "    sort_str=\" \".join(low+high)\n",
    "    print(\"Realigned_String: \",sort_str)"
   ]
  },
  {
   "cell_type": "code",
   "execution_count": 24,
   "metadata": {},
   "outputs": [
    {
     "name": "stdout",
     "output_type": "stream",
     "text": [
      "Enter a collapsed String: sAaktRUhNi\n",
      "Realigned_String:  s a k t h i A R U N\n"
     ]
    }
   ],
   "source": [
    "str_1=str(input(\"Enter a collapsed String: \"))\n",
    "sep(str_1)"
   ]
  },
  {
   "cell_type": "code",
   "execution_count": 27,
   "metadata": {},
   "outputs": [],
   "source": [
    "# 5. compares one with another\n",
    "def comp(s_1,s_2):\n",
    "    for i in s_2:\n",
    "        if i in s_1:\n",
    "            continue\n",
    "        else:\n",
    "            return 0\n",
    "            break\n",
    "    return 1"
   ]
  },
  {
   "cell_type": "code",
   "execution_count": 28,
   "metadata": {},
   "outputs": [
    {
     "name": "stdout",
     "output_type": "stream",
     "text": [
      "Main String: SANJAY\n",
      "Sub String: AJAY\n",
      "String 2 is substring.\n"
     ]
    }
   ],
   "source": [
    "s_1=str(input(\"Main String: \"))\n",
    "s_2=str(input(\"Sub String: \"))\n",
    "if comp(s_1,s_2) ==1:\n",
    "    print(\"String 2 is substring.\")\n",
    "else:\n",
    "    print(\"String 2 is not a substring\")"
   ]
  }
 ],
 "metadata": {
  "kernelspec": {
   "display_name": "Python 3",
   "language": "python",
   "name": "python3"
  },
  "language_info": {
   "codemirror_mode": {
    "name": "ipython",
    "version": 3
   },
   "file_extension": ".py",
   "mimetype": "text/x-python",
   "name": "python",
   "nbconvert_exporter": "python",
   "pygments_lexer": "ipython3",
   "version": "3.8.3"
  }
 },
 "nbformat": 4,
 "nbformat_minor": 4
}
