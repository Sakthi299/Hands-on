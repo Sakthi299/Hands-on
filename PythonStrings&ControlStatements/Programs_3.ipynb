{
 "cells": [
  {
   "cell_type": "code",
   "execution_count": 20,
   "metadata": {
    "scrolled": true
   },
   "outputs": [],
   "source": [
    "# 1. Tuples\n",
    "nums=(10,30,20,40)\n",
    "num_1,num_2,num_3,num_4=nums"
   ]
  },
  {
   "cell_type": "code",
   "execution_count": 21,
   "metadata": {
    "scrolled": true
   },
   "outputs": [
    {
     "name": "stdout",
     "output_type": "stream",
     "text": [
      "10 \t 30 \n",
      " 20 \t 40\n"
     ]
    }
   ],
   "source": [
    "print(num_1,\"\\t\",num_2,\"\\n\",num_3,\"\\t\",num_4)"
   ]
  },
  {
   "cell_type": "code",
   "execution_count": 22,
   "metadata": {
    "scrolled": true
   },
   "outputs": [
    {
     "name": "stdout",
     "output_type": "stream",
     "text": [
      "Before Swapping:\n",
      "22 \t 11\n"
     ]
    }
   ],
   "source": [
    "# 2.  Simultaneous assignment\n",
    "num_1=22\n",
    "num_2=11\n",
    "print(\"Before Swapping:\")\n",
    "print(num_1,\"\\t\",num_2)"
   ]
  },
  {
   "cell_type": "code",
   "execution_count": 23,
   "metadata": {
    "scrolled": true
   },
   "outputs": [
    {
     "name": "stdout",
     "output_type": "stream",
     "text": [
      "After Swapping:\n",
      "11 \t 22\n"
     ]
    }
   ],
   "source": [
    "print(\"After Swapping:\")\n",
    "num_1,num_2=num_2,num_1\n",
    "print(num_1,\"\\t\",num_2)"
   ]
  },
  {
   "cell_type": "code",
   "execution_count": 24,
   "metadata": {
    "scrolled": true
   },
   "outputs": [
    {
     "name": "stdout",
     "output_type": "stream",
     "text": [
      "{'shoe', 'chain', 'ring', 'belt'}\n",
      "\n",
      "frozenset({'shoe', 'chain', 'ring', 'belt'})\n"
     ]
    }
   ],
   "source": [
    "# 3. frozen set\n",
    "item ={'ring','chain','belt','shoe'}\n",
    "print(item,end=\"\\n\\n\")\n",
    "item=frozenset({'ring','chain','belt','shoe'})\n",
    "print(item)"
   ]
  },
  {
   "cell_type": "code",
   "execution_count": 25,
   "metadata": {
    "scrolled": true
   },
   "outputs": [],
   "source": [
    "# 4. Inputting into List\n",
    "nums=[]\n",
    "def get(no):\n",
    "    for i in range(0,no):\n",
    "        item=float(input())\n",
    "        nums.append(item)"
   ]
  },
  {
   "cell_type": "code",
   "execution_count": 26,
   "metadata": {
    "scrolled": true
   },
   "outputs": [
    {
     "name": "stdout",
     "output_type": "stream",
     "text": [
      "Enter size: 6\n",
      "2.15\n",
      "3.65\n",
      "1.88\n",
      "7.4\n",
      "5.1\n",
      "9.5\n",
      "[2.15, 3.65, 1.88, 7.4, 5.1, 9.5]\n"
     ]
    }
   ],
   "source": [
    "no=int(input(\"Enter size: \"))\n",
    "get(no)\n",
    "print(nums)"
   ]
  },
  {
   "cell_type": "code",
   "execution_count": 27,
   "metadata": {
    "scrolled": true
   },
   "outputs": [
    {
     "name": "stdout",
     "output_type": "stream",
     "text": [
      "I have bought 1 quality rice of 1000 kgs priced 450.98 rupees.\n"
     ]
    }
   ],
   "source": [
    "# 5. formatting numerical in string\n",
    "rice = 1\n",
    "wgt = 1000\n",
    "price = 450.9789\n",
    "statement = \"I have bought {1} \\\n",
    "quality rice of {0} kgs priced {2:.2f} rupees.\"\n",
    "print(statement.format(wgt, rice, price))"
   ]
  },
  {
   "cell_type": "code",
   "execution_count": 28,
   "metadata": {
    "scrolled": true
   },
   "outputs": [],
   "source": [
    "# 6. Counting dataitems\n",
    "def cnt(listing,refer):\n",
    "    for i in listing:\n",
    "        if i in refer:\n",
    "            refer[i]+=1\n",
    "        else:\n",
    "            refer[i]=1"
   ]
  },
  {
   "cell_type": "code",
   "execution_count": 29,
   "metadata": {
    "scrolled": true
   },
   "outputs": [
    {
     "name": "stdout",
     "output_type": "stream",
     "text": [
      "[99, 55, 77, 99, 44, 77, 55, 77, 44, 99]\n"
     ]
    }
   ],
   "source": [
    "sample=[99,55,77,99,44,77,55,77,44,99]\n",
    "print(sample)"
   ]
  },
  {
   "cell_type": "code",
   "execution_count": 30,
   "metadata": {
    "scrolled": true
   },
   "outputs": [
    {
     "name": "stdout",
     "output_type": "stream",
     "text": [
      "Item_Count:  {99: 3, 55: 2, 77: 3, 44: 2}\n"
     ]
    }
   ],
   "source": [
    "refer= dict()\n",
    "cnt(sample,refer)\n",
    "print(\"Item_Count: \",refer)"
   ]
  }
 ],
 "metadata": {
  "kernelspec": {
   "display_name": "Python 3",
   "language": "python",
   "name": "python3"
  },
  "language_info": {
   "codemirror_mode": {
    "name": "ipython",
    "version": 3
   },
   "file_extension": ".py",
   "mimetype": "text/x-python",
   "name": "python",
   "nbconvert_exporter": "python",
   "pygments_lexer": "ipython3",
   "version": "3.8.3"
  }
 },
 "nbformat": 4,
 "nbformat_minor": 4
}
