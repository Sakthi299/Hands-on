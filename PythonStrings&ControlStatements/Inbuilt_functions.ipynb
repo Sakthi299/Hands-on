{
 "cells": [
  {
   "cell_type": "code",
   "execution_count": 5,
   "metadata": {},
   "outputs": [],
   "source": [
    "# 1. all() function \n",
    "list_1=[2,5,9,5,7]\n",
    "list_2=[2,0,9,2,1]\n",
    "list_3=[4,True,False]       #if any one value is false,returns False\n",
    "list_4=[]                                # if empty,returns True"
   ]
  },
  {
   "cell_type": "code",
   "execution_count": 6,
   "metadata": {},
   "outputs": [
    {
     "name": "stdout",
     "output_type": "stream",
     "text": [
      "True\n",
      "False\n",
      "False\n",
      "True\n"
     ]
    }
   ],
   "source": [
    "print(all(list_1))\n",
    "print(all(list_2))\n",
    "print(all(list_3))\n",
    "print(all(list_4))"
   ]
  },
  {
   "cell_type": "code",
   "execution_count": 9,
   "metadata": {},
   "outputs": [
    {
     "name": "stdout",
     "output_type": "stream",
     "text": [
      "0b1011\n",
      "0xb\n",
      "0o13\n"
     ]
    }
   ],
   "source": [
    "# 2. Numerical conversion\n",
    "num=8\n",
    "print(bin(11))\n",
    "print(hex(11))\n",
    "print(oct(11))"
   ]
  },
  {
   "cell_type": "code",
   "execution_count": 20,
   "metadata": {},
   "outputs": [
    {
     "name": "stdout",
     "output_type": "stream",
     "text": [
      "25\n",
      "All is well\n"
     ]
    }
   ],
   "source": [
    "# 3. exec() & sum() function\n",
    "no=10\n",
    "list_1=[1,2,3,4,5]\n",
    "exec('print(sum(list_1,no))')\n",
    "exec('print(\"All is well\")')"
   ]
  },
  {
   "cell_type": "code",
   "execution_count": 23,
   "metadata": {},
   "outputs": [
    {
     "name": "stdout",
     "output_type": "stream",
     "text": [
      "9\n"
     ]
    }
   ],
   "source": [
    "# 4. expression_code\n",
    "num=3\n",
    "print(eval('num**2'))"
   ]
  },
  {
   "cell_type": "code",
   "execution_count": 26,
   "metadata": {},
   "outputs": [
    {
     "name": "stdout",
     "output_type": "stream",
     "text": [
      "The pupil named  Sanjeev with Id  2108605130  passed the exam.\n"
     ]
    }
   ],
   "source": [
    "# 5. getting class attributes\n",
    "class details:\n",
    "    roll=2108605130\n",
    "    name=\"Sanjeev\"\n",
    "obj=details()\n",
    "print(\"The pupil named \",getattr(obj,\"name\"),\"\\\n",
    "with Id \",obj.roll,\" passed the exam.\")"
   ]
  }
 ],
 "metadata": {
  "kernelspec": {
   "display_name": "Python 3",
   "language": "python",
   "name": "python3"
  },
  "language_info": {
   "codemirror_mode": {
    "name": "ipython",
    "version": 3
   },
   "file_extension": ".py",
   "mimetype": "text/x-python",
   "name": "python",
   "nbconvert_exporter": "python",
   "pygments_lexer": "ipython3",
   "version": "3.8.3"
  }
 },
 "nbformat": 4,
 "nbformat_minor": 4
}
