{
 "cells": [
  {
   "cell_type": "code",
   "execution_count": 7,
   "metadata": {},
   "outputs": [],
   "source": [
    "# 1. Count occurence\n",
    "def count(str_1,str_2):\n",
    "    tmp=str_1.lower()\n",
    "    ct=tmp.count(str_2.lower())\n",
    "    return ct"
   ]
  },
  {
   "cell_type": "code",
   "execution_count": 8,
   "metadata": {},
   "outputs": [
    {
     "name": "stdout",
     "output_type": "stream",
     "text": [
      "Sentence: Paris is icon of history.Paris is a marvel.We love Paris.\n",
      "Find_key: Paris\n",
      "Paris  occurred  3  times.\n"
     ]
    }
   ],
   "source": [
    "str_1=str(input(\"Sentence: \"))\n",
    "str_2=str(input(\"Find_key: \"))\n",
    "print(str_2,\" occurred \",count(str_1,str_2),\" times.\")"
   ]
  },
  {
   "cell_type": "code",
   "execution_count": 12,
   "metadata": {},
   "outputs": [],
   "source": [
    "# 2. Calling function in different name\n",
    "def disp(str_1,str_2,num):\n",
    "    print(\"Person named\",str_1,\" achieved \\\n",
    "honor award from \",str_2,\" in \",num,\".\")"
   ]
  },
  {
   "cell_type": "code",
   "execution_count": 13,
   "metadata": {},
   "outputs": [
    {
     "name": "stdout",
     "output_type": "stream",
     "text": [
      "Person named Vijay  achieved honor award from  SIIMA  in  2008 .\n"
     ]
    }
   ],
   "source": [
    "show=disp\n",
    "show(\"Vijay\",\"SIIMA\",2008)"
   ]
  },
  {
   "cell_type": "code",
   "execution_count": 14,
   "metadata": {},
   "outputs": [
    {
     "name": "stdout",
     "output_type": "stream",
     "text": [
      "{1: 'Chennai', 2: 'Salem', 3: 'Karur', 4: 'Ooty', 5: 'Gotham', 6: 'Tanjore'}\n"
     ]
    }
   ],
   "source": [
    "# 3. Merging \n",
    "town={1:\"Chennai\",2:\"Salem\",3:\"Karur\"}\n",
    "city={4:\"Ooty\",5:\"Gotham\",6:\"Tanjore\"}\n",
    "dist={**town,**city}\n",
    "print(dist)"
   ]
  },
  {
   "cell_type": "code",
   "execution_count": 25,
   "metadata": {},
   "outputs": [
    {
     "name": "stdout",
     "output_type": "stream",
     "text": [
      "{'name': 'Gowtham', 'role': 'Engineer', 'company': 'Accenture', 'salary': 70000, 'place': 'Kovai'}\n"
     ]
    }
   ],
   "source": [
    "# 4.Select specific keys\n",
    "record={\"name\":\"Gowtham\",\"role\":\"Engineer\\\n",
    "\",\"company\":\"Accenture\",\"salary\":70000,\"place\":\"Kovai\"}\n",
    "field=[\"name\",\"place\"]\n",
    "print(record)"
   ]
  },
  {
   "cell_type": "code",
   "execution_count": 26,
   "metadata": {},
   "outputs": [
    {
     "name": "stdout",
     "output_type": "stream",
     "text": [
      "{'name': 'Gowtham', 'place': 'Kovai'}\n"
     ]
    }
   ],
   "source": [
    "assess={i: record[i] for i in field}\n",
    "print(assess)"
   ]
  },
  {
   "cell_type": "code",
   "execution_count": 27,
   "metadata": {},
   "outputs": [
    {
     "name": "stdout",
     "output_type": "stream",
     "text": [
      "{'company': 'Accenture', 'place': 'Kovai', 'name': 'Gowtham'}\n"
     ]
    }
   ],
   "source": [
    "# 5. Remove specific keys\n",
    "field=[\"role\",\"salary\"]\n",
    "undo={i: record[i] for i in record.keys() - field}\n",
    "print(undo)"
   ]
  }
 ],
 "metadata": {
  "kernelspec": {
   "display_name": "Python 3",
   "language": "python",
   "name": "python3"
  },
  "language_info": {
   "codemirror_mode": {
    "name": "ipython",
    "version": 3
   },
   "file_extension": ".py",
   "mimetype": "text/x-python",
   "name": "python",
   "nbconvert_exporter": "python",
   "pygments_lexer": "ipython3",
   "version": "3.8.3"
  }
 },
 "nbformat": 4,
 "nbformat_minor": 4
}
