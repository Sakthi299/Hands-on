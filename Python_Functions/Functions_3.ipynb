{
 "cells": [
  {
   "cell_type": "code",
   "execution_count": 1,
   "metadata": {},
   "outputs": [],
   "source": [
    "# 7.  Function to get out anagrams\n",
    "def palindrome(checklist):\n",
    "    \"\"\"This function returns word which are palindromic,\n",
    "    that is the word that reads same backward as forward\"\"\"\n",
    "    for x in checklist:\n",
    "        if(x == x[::-1]):\n",
    "            print(x)\n"
   ]
  },
  {
   "cell_type": "code",
   "execution_count": 2,
   "metadata": {},
   "outputs": [
    {
     "name": "stdout",
     "output_type": "stream",
     "text": [
      "Palindromic Strings in List: \n",
      "madam\n",
      "mom\n"
     ]
    }
   ],
   "source": [
    "string=[\"madam\",\"dubai\",\"mom\",\"flight\"]\n",
    "print(\"Palindromic Strings in List: \")\n",
    "palindrome(string)"
   ]
  },
  {
   "cell_type": "code",
   "execution_count": 3,
   "metadata": {},
   "outputs": [
    {
     "name": "stdout",
     "output_type": "stream",
     "text": [
      "Help on function palindrome in module __main__:\n",
      "\n",
      "palindrome(checklist)\n",
      "    This function returns word which are palindromic,\n",
      "    that is the word that reads same backward as forward\n",
      "\n"
     ]
    }
   ],
   "source": [
    "# 8. Docstrings in python\n",
    "help(palindrome)"
   ]
  }
 ],
 "metadata": {
  "kernelspec": {
   "display_name": "Python 3",
   "language": "python",
   "name": "python3"
  },
  "language_info": {
   "codemirror_mode": {
    "name": "ipython",
    "version": 3
   },
   "file_extension": ".py",
   "mimetype": "text/x-python",
   "name": "python",
   "nbconvert_exporter": "python",
   "pygments_lexer": "ipython3",
   "version": "3.8.3"
  }
 },
 "nbformat": 4,
 "nbformat_minor": 4
}
