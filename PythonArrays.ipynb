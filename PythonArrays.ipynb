{
 "cells": [
  {
   "cell_type": "code",
   "execution_count": 3,
   "metadata": {},
   "outputs": [
    {
     "name": "stdout",
     "output_type": "stream",
     "text": [
      "Length of array is  8\n",
      "11 occured  3  times\n",
      "Index position of 72 is  3\n",
      "Original array : 11 65 11 72 45 33 11 98 \r\n",
      "The popped element is  98\n",
      "The popped element is  33\n",
      "Popped array : 11 65 11 72 45 11 \r\n",
      "Before reversing : 11 65 11 72 45 11 \r\n",
      "After reversing : 11 45 72 11 65 11 "
     ]
    }
   ],
   "source": [
    "# 21. Array_program_1\n",
    "import array as arr\n",
    "q=arr.array('i',[11,65,11,72,45,33,11,98]) \n",
    "# to find length of array\n",
    "l = len(q)\n",
    "print(\"Length of array is \",l)\n",
    "# to find frequency of \"11\"\n",
    "print(\"11 occured \",q.count(11),\" times\")\n",
    "#index of element \"72\"\n",
    "print(\"Index position of 72 is \",q.index(72))\n",
    "# contents of array before popping\n",
    "print(\"Original array : \",end=\"\")\n",
    "for i in range(0,l):\n",
    "    print(q[i],end=\" \")\n",
    "print(\"\\r\")\n",
    "#remove last element\n",
    "print(\"The popped element is \",q.pop())\n",
    "#remove 6th element \"33\"\n",
    "print(\"The popped element is \",q.pop(5))\n",
    "# contents of array after popping\n",
    "print(\"Popped array : \",end=\"\")\n",
    "for i in q:\n",
    "    print(i,end=\" \")\n",
    "print(\"\\r\")\n",
    "# contents of array before reversing\n",
    "print(\"Before reversing : \",end=\"\")\n",
    "for i in q:\n",
    "    print(i,end=\" \")\n",
    "print(\"\\r\")    \n",
    "#reverse the array\n",
    "q.reverse()\n",
    "# contents of array after reversing\n",
    "print(\"After reversing : \",end=\"\")\n",
    "for i in q:\n",
    "    print(i,end=\" \")"
   ]
  },
  {
   "cell_type": "code",
   "execution_count": 7,
   "metadata": {},
   "outputs": [
    {
     "name": "stdout",
     "output_type": "stream",
     "text": [
      "Original Array: \n",
      "  23   46   75   89   90 \r\n",
      "Changed Array: \n",
      "  23   34   58   62   90 "
     ]
    }
   ],
   "source": [
    "# 22. Array_program_2\n",
    "import array as arr\n",
    "numbers=arr.array('i',[23,46,75,89,90])      #create\n",
    "print(\"Original Array: \")\n",
    "for i in numbers:\n",
    "    print(\" \",i,end=\" \")\n",
    "print(\"\\r\")\n",
    "numbers[1:4]=arr.array('i',[34,58,62])      #change contents\n",
    "print(\"Changed Array: \")\n",
    "for i in numbers:\n",
    "    print(\" \",i,end=\" \")"
   ]
  },
  {
   "cell_type": "code",
   "execution_count": 18,
   "metadata": {},
   "outputs": [
    {
     "name": "stdout",
     "output_type": "stream",
     "text": [
      "Array before insertion        :  23 43 56 78 89 \r\n",
      "Array after insertion           : 23 36 43 56 78 89 95 \r\n",
      "Array after removing '23'  : 36 43 56 78 89 95 \r\n",
      "Array after extending          : 36 43 56 78 89 95 84 73 67 40 \r\n"
     ]
    }
   ],
   "source": [
    "# 23.  Array_program_3\n",
    "import array as arr\n",
    "a=arr.array('i',[23,43,56,78,89])\n",
    "print(\"Array before insertion        :  \",end=\"\")\n",
    "for i in a:\n",
    "    print(i,end=\" \")\n",
    "print(\"\\r\")\n",
    "#insert element at position 1\n",
    "a.insert(1,36)\n",
    "#append element to current array\n",
    "a.append(95) \n",
    "print(\"Array after insertion           : \",end=\"\")\n",
    "for i in a:\n",
    "    print(i,end=\" \")\n",
    "print(\"\\r\")\n",
    "#removing an element 23\n",
    "a.remove(23)\n",
    "print(\"Array after removing \\'23\\'  : \",end=\"\")\n",
    "for i in a:\n",
    "    print(i,end=\" \")\n",
    "print(\"\\r\")\n",
    "b=arr.array('i',[84,73,67,40])  #creating array b\n",
    "#extending current array\n",
    "a.extend(b)\n",
    "print(\"Array after extending          : \",end=\"\")\n",
    "for i in a:\n",
    "    print(i,end=\" \")\n",
    "print(\"\\r\")\n",
    "#deleting array\n",
    "del(a)\n"
   ]
  },
  {
   "cell_type": "code",
   "execution_count": 20,
   "metadata": {},
   "outputs": [
    {
     "name": "stdout",
     "output_type": "stream",
     "text": [
      "Whole array: \n",
      "  a   b   c   d   e   f   g   h   i   j \r\n",
      "From beginning to middle: \n",
      "  a   b   c   d   e \r\n",
      "From middle to end: \n",
      "  f   g   h   i   j \r\n",
      "From 'd' to end: \n",
      "  d   e   f   g   h   i   j \r\n",
      "From 'd' to 'i': \n",
      "  d   e   f   g   h \r\n"
     ]
    }
   ],
   "source": [
    "# 24. Array_program_4\n",
    "import array as arr\n",
    "a=arr.array('u',['a','b','c','d','e','f','g','h','i','j'])\n",
    "splice_1=arr.array('u')\n",
    "splice_1=a[:]\n",
    "print(\"Whole array: \")\n",
    "for i in splice_1:\n",
    "    print(\" \",i,end=\" \")\n",
    "print(\"\\r\")\n",
    "splice_1=a[:5]\n",
    "print(\"From beginning to middle: \")\n",
    "for i in splice_1:\n",
    "    print(\" \",i,end=\" \")\n",
    "print(\"\\r\")\n",
    "splice_1=a[-5:]\n",
    "print(\"From middle to end: \")\n",
    "for i in splice_1:\n",
    "    print(\" \",i,end=\" \")\n",
    "print(\"\\r\")\n",
    "splice_1=a[3:]\n",
    "print(\"From 'd' to end: \")\n",
    "for i in splice_1:\n",
    "    print(\" \",i,end=\" \")\n",
    "print(\"\\r\")\n",
    "splice_1=a[3:8]\n",
    "print(\"From 'd' to 'i': \")\n",
    "for i in splice_1:\n",
    "    print(\" \",i,end=\" \")\n",
    "print(\"\\r\")\n"
   ]
  },
  {
   "cell_type": "code",
   "execution_count": 33,
   "metadata": {},
   "outputs": [
    {
     "name": "stdout",
     "output_type": "stream",
     "text": [
      "Contents of array: \n",
      "[1 2 3 4 5]\n",
      "-------------------------\n",
      "[['a' 'b' 'c']\n",
      " ['d' 'e' 'f']]\n",
      "-------------------------\n",
      "[[['1' '2' '3']\n",
      "  ['4' '5' '6']]\n",
      "\n",
      " [['a' 'b' 'c']\n",
      "  ['x' 'y' 'z']]]\n",
      "DIMENSIONS_OF_ARRAY :  \n",
      "array_1 is 1 dimensional\n",
      "array_2 is 2 dimensional\n",
      "array_3 is 3 dimensional\n"
     ]
    }
   ],
   "source": [
    "# 25. Array_program_5\n",
    "import numpy as np\n",
    "\n",
    "array_1 = np.array([1, 2, 3, 4, 5])\n",
    "array_2 = np.array([['a','b','c'], ['d','e','f']])\n",
    "array_3 = np.array([[[1, 2, 3], [4, 5, 6]], [['a','b','c'], ['x','y','z']]])\n",
    "print(\"Contents of array: \")\n",
    "print(array_1)\n",
    "print(\"-------------------------\")\n",
    "print(array_2)\n",
    "print(\"-------------------------\")\n",
    "print(array_3)\n",
    "print(\"DIMENSIONS_OF_ARRAY :  \"+\"\\narray_1 is \"+str(array_1.ndim)+\" dimensional\"+\"\\narray_2 is \"+str(array_2.ndim)+\" dimensional\"+\"\\narray_3 is \"+str(array_3.ndim)+\" dimensional\")\n"
   ]
  },
  {
   "cell_type": "code",
   "execution_count": null,
   "metadata": {},
   "outputs": [],
   "source": []
  }
 ],
 "metadata": {
  "kernelspec": {
   "display_name": "Python 3",
   "language": "python",
   "name": "python3"
  },
  "language_info": {
   "codemirror_mode": {
    "name": "ipython",
    "version": 3
   },
   "file_extension": ".py",
   "mimetype": "text/x-python",
   "name": "python",
   "nbconvert_exporter": "python",
   "pygments_lexer": "ipython3",
   "version": "3.8.3"
  }
 },
 "nbformat": 4,
 "nbformat_minor": 4
}
