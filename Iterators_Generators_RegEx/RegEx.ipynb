{
 "cells": [
  {
   "cell_type": "code",
   "execution_count": 3,
   "metadata": {},
   "outputs": [],
   "source": [
    "# 1. Regular Expressions\n",
    "import re\n",
    "statement=\"Its raining outside.Be safe at home\"\n",
    "flag=re.search(\"^Its.*home$\",statement)"
   ]
  },
  {
   "cell_type": "code",
   "execution_count": 4,
   "metadata": {},
   "outputs": [
    {
     "name": "stdout",
     "output_type": "stream",
     "text": [
      "Sentence matched\n"
     ]
    }
   ],
   "source": [
    "if flag:\n",
    "    print(\"Sentence matched\")\n",
    "else:\n",
    "    print(\"Sentence not matched\")"
   ]
  },
  {
   "cell_type": "code",
   "execution_count": 18,
   "metadata": {},
   "outputs": [
    {
     "name": "stdout",
     "output_type": "stream",
     "text": [
      "Search found.\n"
     ]
    }
   ],
   "source": [
    "# 2. match finding\n",
    "pattern = '^m...s$'\n",
    "test = 'monks'\n",
    "result = re.match(pattern, test)\n",
    "if result:\n",
    "    print(\"Search found.\")\n",
    "else:\n",
    "    print(\"Search not found.\")\t"
   ]
  },
  {
   "cell_type": "code",
   "execution_count": 23,
   "metadata": {},
   "outputs": [],
   "source": [
    "# 3. search in groups\n",
    "string = \"Rats are smarter usually\";\n",
    "key = re.search( r'(.*) are (.*) .*', string, re.M|re.I)"
   ]
  },
  {
   "cell_type": "code",
   "execution_count": 25,
   "metadata": {},
   "outputs": [
    {
     "name": "stdout",
     "output_type": "stream",
     "text": [
      "key.group()   :  Rats are smarter usually\n",
      "key.group(1) :  Rats\n",
      "key.group(2) :  smarter\n"
     ]
    }
   ],
   "source": [
    "if key:\n",
    "    print (\"key.group()   : \",key.group())\n",
    "    print (\"key.group(1) : \",key.group(1))\n",
    "    print (\"key.group(2) : \",key.group(2))\n",
    "else:\n",
    "    print( \"No match found !\")"
   ]
  },
  {
   "cell_type": "code",
   "execution_count": 26,
   "metadata": {},
   "outputs": [
    {
     "name": "stdout",
     "output_type": "stream",
     "text": [
      "['Sakthi']\n"
     ]
    }
   ],
   "source": [
    "# 4. Extracting words\n",
    "message=\"Sakthi,kudos to you\"\n",
    "regexp=re.findall(r\"^\\w+\",message)\n",
    "print(regexp)"
   ]
  },
  {
   "cell_type": "code",
   "execution_count": 28,
   "metadata": {},
   "outputs": [
    {
     "name": "stdout",
     "output_type": "stream",
     "text": [
      "['we', 'are', 'going', 'on', 'vacation']\n"
     ]
    }
   ],
   "source": [
    "# 5. splitting words\n",
    "message='we are going on vacation'\n",
    "print((re.split(r'\\s',message)))"
   ]
  },
  {
   "cell_type": "code",
   "execution_count": 32,
   "metadata": {},
   "outputs": [
    {
     "name": "stdout",
     "output_type": "stream",
     "text": [
      "['arun', ' is', '', '', '', ' my', '', ' friend', '', '']\n"
     ]
    }
   ],
   "source": [
    "# 6. extract by character\n",
    "message='arunz iszzzz myzz friendzz'\n",
    "print((re.split(r'z',message)))"
   ]
  },
  {
   "cell_type": "code",
   "execution_count": 33,
   "metadata": {},
   "outputs": [
    {
     "name": "stdout",
     "output_type": "stream",
     "text": [
      "['S']\n",
      "['S', 'A', 'K', 'T', 'H', 'I']\n"
     ]
    }
   ],
   "source": [
    "#  7. first letter in words\n",
    "sentence=\"\"\"Sanjay\n",
    "Ate\n",
    "Kopes\n",
    "That\n",
    "Heath\n",
    "Ignite\"\"\"\n",
    "char_1=re.findall(r\"^\\w\",sentence)\n",
    "char_2=re.findall(r\"^\\w\",sentence,re.MULTILINE)\n",
    "print(char_1)\n",
    "print(char_2)"
   ]
  }
 ],
 "metadata": {
  "kernelspec": {
   "display_name": "Python 3",
   "language": "python",
   "name": "python3"
  },
  "language_info": {
   "codemirror_mode": {
    "name": "ipython",
    "version": 3
   },
   "file_extension": ".py",
   "mimetype": "text/x-python",
   "name": "python",
   "nbconvert_exporter": "python",
   "pygments_lexer": "ipython3",
   "version": "3.8.3"
  }
 },
 "nbformat": 4,
 "nbformat_minor": 4
}
