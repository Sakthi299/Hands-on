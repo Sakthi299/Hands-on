{
 "cells": [
  {
   "cell_type": "code",
   "execution_count": 11,
   "metadata": {},
   "outputs": [
    {
     "name": "stdout",
     "output_type": "stream",
     "text": [
      "(1, 2, 3)\n"
     ]
    }
   ],
   "source": [
    "# 1. Shape of array\n",
    "import numpy as np\n",
    "arr = np.array([[[1,2,3],[4,5,6]]])\n",
    "print(arr.shape)"
   ]
  },
  {
   "cell_type": "code",
   "execution_count": 29,
   "metadata": {},
   "outputs": [
    {
     "name": "stdout",
     "output_type": "stream",
     "text": [
      "[[[[ 1  2  3  4]]\n",
      "\n",
      "  [[ 2  3  1 10]]\n",
      "\n",
      "  [[ 8  5  7  9]]]]\n"
     ]
    }
   ],
   "source": [
    "vec = np.array([[[1, 2, 3,4]],[[2,3,1,10]],[[8,5,7,9]]], ndmin=4)\n",
    "print(vec)"
   ]
  },
  {
   "cell_type": "code",
   "execution_count": 31,
   "metadata": {},
   "outputs": [
    {
     "name": "stdout",
     "output_type": "stream",
     "text": [
      "Shape of array : (1, 3, 1, 4)\n"
     ]
    }
   ],
   "source": [
    "print('Shape of array :', vec.shape) "
   ]
  },
  {
   "cell_type": "code",
   "execution_count": 41,
   "metadata": {},
   "outputs": [
    {
     "name": "stdout",
     "output_type": "stream",
     "text": [
      "[[[ 1  2  3  4]\n",
      "  [ 2  3  1 10]\n",
      "  [ 8  5  7  9]]]\n"
     ]
    }
   ],
   "source": [
    "# 2. Reshaping array\n",
    "newarr=vec.reshape(1,3,4)\n",
    "print(newarr)"
   ]
  },
  {
   "cell_type": "code",
   "execution_count": 42,
   "metadata": {},
   "outputs": [
    {
     "name": "stdout",
     "output_type": "stream",
     "text": [
      "Shape of array : (1, 3, 4)\n"
     ]
    }
   ],
   "source": [
    "print('Shape of array :', newarr.shape) "
   ]
  },
  {
   "cell_type": "code",
   "execution_count": 55,
   "metadata": {},
   "outputs": [
    {
     "name": "stdout",
     "output_type": "stream",
     "text": [
      "[[[ 1  2  3  4  2  3]\n",
      "  [ 1 10  8  5  7  9]]]\n"
     ]
    }
   ],
   "source": [
    "# 3. calling view after reshaping\n",
    "select=vec.view()\n",
    "print(select.reshape(1,2,6))"
   ]
  },
  {
   "cell_type": "code",
   "execution_count": 57,
   "metadata": {},
   "outputs": [
    {
     "name": "stdout",
     "output_type": "stream",
     "text": [
      "[[[ 1  2  3  4]]\n",
      "\n",
      " [[ 2  3  1 10]]\n",
      "\n",
      " [[ 8  5  7  9]]]\n"
     ]
    }
   ],
   "source": [
    "print(select.base)"
   ]
  },
  {
   "cell_type": "code",
   "execution_count": 61,
   "metadata": {},
   "outputs": [
    {
     "name": "stdout",
     "output_type": "stream",
     "text": [
      "[[[ 1  2  3]\n",
      "  [ 4  2  3]]\n",
      "\n",
      " [[ 1 10  8]\n",
      "  [ 5  7  9]]]\n"
     ]
    }
   ],
   "source": [
    "# 4. flexible reshaping with unknown axis \n",
    "print(newarr.reshape(2,2,-1))"
   ]
  },
  {
   "cell_type": "code",
   "execution_count": 62,
   "metadata": {},
   "outputs": [
    {
     "name": "stdout",
     "output_type": "stream",
     "text": [
      "[ 1  2  3  4  2  3  1 10  8  5  7  9]\n"
     ]
    }
   ],
   "source": [
    "# 5. Flattening array to 1D\n",
    "print(vec.reshape(-1))"
   ]
  }
 ],
 "metadata": {
  "kernelspec": {
   "display_name": "Python 3",
   "language": "python",
   "name": "python3"
  },
  "language_info": {
   "codemirror_mode": {
    "name": "ipython",
    "version": 3
   },
   "file_extension": ".py",
   "mimetype": "text/x-python",
   "name": "python",
   "nbconvert_exporter": "python",
   "pygments_lexer": "ipython3",
   "version": "3.8.3"
  }
 },
 "nbformat": 4,
 "nbformat_minor": 4
}
