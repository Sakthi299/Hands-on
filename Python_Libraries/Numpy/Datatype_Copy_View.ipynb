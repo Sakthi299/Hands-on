{
 "cells": [
  {
   "cell_type": "code",
   "execution_count": 3,
   "metadata": {},
   "outputs": [
    {
     "name": "stdout",
     "output_type": "stream",
     "text": [
      "['x' 'y' 'z']\n"
     ]
    }
   ],
   "source": [
    "# 1. Slicing\n",
    "import numpy as np\n",
    "arr=np.array([['a','b','c'],['x','y','z']])\n",
    "print(arr[1,0:])"
   ]
  },
  {
   "cell_type": "code",
   "execution_count": 5,
   "metadata": {},
   "outputs": [
    {
     "name": "stdout",
     "output_type": "stream",
     "text": [
      "['z' 'y' 'x']\n"
     ]
    }
   ],
   "source": [
    "print(arr[1,::-1])"
   ]
  },
  {
   "cell_type": "code",
   "execution_count": 8,
   "metadata": {},
   "outputs": [],
   "source": [
    "# 2. Datatypes \n",
    "character=np.array([1,2,3,4,5],dtype='i')\n",
    "string=np.array(['koel','siyan','jazz'],dtype='S')"
   ]
  },
  {
   "cell_type": "code",
   "execution_count": 9,
   "metadata": {},
   "outputs": [
    {
     "name": "stdout",
     "output_type": "stream",
     "text": [
      "[1 2 3 4 5]\n",
      "int32\n"
     ]
    }
   ],
   "source": [
    "print(character)\n",
    "print(character.dtype)"
   ]
  },
  {
   "cell_type": "code",
   "execution_count": 10,
   "metadata": {},
   "outputs": [
    {
     "name": "stdout",
     "output_type": "stream",
     "text": [
      "[b'koel' b'siyan' b'jazz']\n",
      "|S5\n"
     ]
    }
   ],
   "source": [
    "print(string)\n",
    "print(string.dtype)"
   ]
  },
  {
   "cell_type": "code",
   "execution_count": 15,
   "metadata": {},
   "outputs": [
    {
     "name": "stdout",
     "output_type": "stream",
     "text": [
      "[ True False  True False  True  True]\n"
     ]
    }
   ],
   "source": [
    "# 3. Datatype casting\n",
    "alpha=np.array([9,0,3,0,6,4])\n",
    "value=alpha.astype(bool)\n",
    "print(value)"
   ]
  },
  {
   "cell_type": "code",
   "execution_count": 17,
   "metadata": {},
   "outputs": [
    {
     "name": "stdout",
     "output_type": "stream",
     "text": [
      "[10  0  3  0  6  4]\n"
     ]
    }
   ],
   "source": [
    "# 4. Copying array\n",
    "tmp=alpha.copy()\n",
    "tmp[0]=10\n",
    "print(tmp)"
   ]
  },
  {
   "cell_type": "code",
   "execution_count": 18,
   "metadata": {},
   "outputs": [
    {
     "name": "stdout",
     "output_type": "stream",
     "text": [
      "[0 2 3 4 5]\n"
     ]
    }
   ],
   "source": [
    "# 5. View affects array\n",
    "disp=character.view()\n",
    "disp[0]=0\n",
    "print(disp)"
   ]
  },
  {
   "cell_type": "code",
   "execution_count": 19,
   "metadata": {},
   "outputs": [
    {
     "name": "stdout",
     "output_type": "stream",
     "text": [
      "[ 0  2 11  4  5]\n"
     ]
    }
   ],
   "source": [
    "# 6. changing original_array affects \n",
    "character[2]=11\n",
    "print(character)"
   ]
  },
  {
   "cell_type": "code",
   "execution_count": 23,
   "metadata": {},
   "outputs": [
    {
     "name": "stdout",
     "output_type": "stream",
     "text": [
      "Copied :\n",
      "None\n",
      "Original :\n",
      "[ 0  2 11  4  5]\n"
     ]
    }
   ],
   "source": [
    "# 7. base differs\n",
    "print(\"Copied :\",tmp.base,\"Original :\",disp.base,sep=\"\\n\")"
   ]
  }
 ],
 "metadata": {
  "kernelspec": {
   "display_name": "Python 3",
   "language": "python",
   "name": "python3"
  },
  "language_info": {
   "codemirror_mode": {
    "name": "ipython",
    "version": 3
   },
   "file_extension": ".py",
   "mimetype": "text/x-python",
   "name": "python",
   "nbconvert_exporter": "python",
   "pygments_lexer": "ipython3",
   "version": "3.8.3"
  }
 },
 "nbformat": 4,
 "nbformat_minor": 4
}
