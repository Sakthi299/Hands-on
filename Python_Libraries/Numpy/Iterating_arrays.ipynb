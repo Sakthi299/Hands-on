{
 "cells": [
  {
   "cell_type": "code",
   "execution_count": 4,
   "metadata": {},
   "outputs": [],
   "source": [
    "# 1. Iterating array\n",
    "import numpy as np\n",
    "arr=np.array([[1,2,3,4],[4,5,6,7]])"
   ]
  },
  {
   "cell_type": "code",
   "execution_count": 5,
   "metadata": {},
   "outputs": [
    {
     "name": "stdout",
     "output_type": "stream",
     "text": [
      "[1 2 3 4]\n",
      "[4 5 6 7]\n"
     ]
    }
   ],
   "source": [
    "# 2. going through all rows\n",
    "for i in arr:\n",
    "    print(i)"
   ]
  },
  {
   "cell_type": "code",
   "execution_count": 9,
   "metadata": {},
   "outputs": [
    {
     "name": "stdout",
     "output_type": "stream",
     "text": [
      "1 2 3 4 \r\n",
      "4 5 6 7 \r\n"
     ]
    }
   ],
   "source": [
    "# 3. Iterating scalar elements\n",
    "for i in arr:\n",
    "    for j in i:\n",
    "        print(j,end=\" \")\n",
    "    print(\"\\r\")"
   ]
  },
  {
   "cell_type": "code",
   "execution_count": 23,
   "metadata": {},
   "outputs": [
    {
     "name": "stdout",
     "output_type": "stream",
     "text": [
      "Dimension_of_Array:  3\n"
     ]
    }
   ],
   "source": [
    "# 4. iterate in 3D array\n",
    "arr_2=np.array([[['a','b','c']],[['j','k','l']]])\n",
    "print(\"Dimension_of_Array: \",arr_2.ndim)"
   ]
  },
  {
   "cell_type": "code",
   "execution_count": 25,
   "metadata": {},
   "outputs": [
    {
     "name": "stdout",
     "output_type": "stream",
     "text": [
      "a   b   c   \r\n",
      "\r\n",
      "j   k   l   \r\n",
      "\r\n"
     ]
    }
   ],
   "source": [
    "for i in arr_2:\n",
    "    for j in i:\n",
    "        for k in j:\n",
    "            print (k, end=\"   \")\n",
    "        print('\\r')\n",
    "    print('\\r')"
   ]
  },
  {
   "cell_type": "code",
   "execution_count": 26,
   "metadata": {},
   "outputs": [
    {
     "name": "stdout",
     "output_type": "stream",
     "text": [
      "a\n",
      "b\n",
      "c\n",
      "j\n",
      "k\n",
      "l\n"
     ]
    }
   ],
   "source": [
    "# 5. iterating multi-dimensions\n",
    "for i in np.nditer(arr_2):\n",
    "    print(i)"
   ]
  },
  {
   "cell_type": "code",
   "execution_count": 42,
   "metadata": {},
   "outputs": [
    {
     "name": "stdout",
     "output_type": "stream",
     "text": [
      "1\n",
      "3\n",
      "5\n"
     ]
    }
   ],
   "source": [
    "# 6. skipping elements in array\n",
    "arr_3=np.array([[[1,2,3,4,5,6]],[[8,9,7,6,5,4]]])\n",
    "for i in np.nditer(arr_3[0:1,:,::2]):\n",
    "    print(i)"
   ]
  },
  {
   "cell_type": "code",
   "execution_count": 43,
   "metadata": {},
   "outputs": [
    {
     "name": "stdout",
     "output_type": "stream",
     "text": [
      "(0, 0, 0) 1\n",
      "(0, 0, 1) 2\n",
      "(0, 0, 2) 3\n",
      "(0, 0, 3) 4\n",
      "(0, 0, 4) 5\n",
      "(0, 0, 5) 6\n",
      "(1, 0, 0) 8\n",
      "(1, 0, 1) 9\n",
      "(1, 0, 2) 7\n",
      "(1, 0, 3) 6\n",
      "(1, 0, 4) 5\n",
      "(1, 0, 5) 4\n"
     ]
    }
   ],
   "source": [
    "# 7. enumerating n-dimensional elements\n",
    "for idx,x in np.ndenumerate(arr_3):\n",
    "    print(idx,x)"
   ]
  }
 ],
 "metadata": {
  "kernelspec": {
   "display_name": "Python 3",
   "language": "python",
   "name": "python3"
  },
  "language_info": {
   "codemirror_mode": {
    "name": "ipython",
    "version": 3
   },
   "file_extension": ".py",
   "mimetype": "text/x-python",
   "name": "python",
   "nbconvert_exporter": "python",
   "pygments_lexer": "ipython3",
   "version": "3.8.3"
  }
 },
 "nbformat": 4,
 "nbformat_minor": 4
}
