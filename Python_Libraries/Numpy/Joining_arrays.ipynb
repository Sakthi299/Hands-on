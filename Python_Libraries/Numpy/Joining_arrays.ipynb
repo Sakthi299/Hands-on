{
 "cells": [
  {
   "cell_type": "code",
   "execution_count": 9,
   "metadata": {},
   "outputs": [],
   "source": [
    "# 1. Concatenate arrays\n",
    "import numpy as np\n",
    "first=np.array([[1,2,3],[4,5,6]])\n",
    "second=np.array([['a','b','c'],['e','f','g']])"
   ]
  },
  {
   "cell_type": "code",
   "execution_count": 12,
   "metadata": {},
   "outputs": [
    {
     "name": "stdout",
     "output_type": "stream",
     "text": [
      "First Array:\n",
      "[[1 2 3]\n",
      " [4 5 6]]\n",
      "Second Array:\n",
      "[['a' 'b' 'c']\n",
      " ['e' 'f' 'g']]\n"
     ]
    }
   ],
   "source": [
    "print (\"First Array:\" )\n",
    "print(first)\n",
    "print(\"Second Array:\")\n",
    "print(second)"
   ]
  },
  {
   "cell_type": "code",
   "execution_count": 13,
   "metadata": {},
   "outputs": [
    {
     "name": "stdout",
     "output_type": "stream",
     "text": [
      "[['1' '2' '3']\n",
      " ['4' '5' '6']\n",
      " ['a' 'b' 'c']\n",
      " ['e' 'f' 'g']]\n"
     ]
    }
   ],
   "source": [
    "# 2. joining arrays in same axis\n",
    "print(np.concatenate((first,second),axis=0))"
   ]
  },
  {
   "cell_type": "code",
   "execution_count": 17,
   "metadata": {},
   "outputs": [
    {
     "name": "stdout",
     "output_type": "stream",
     "text": [
      "[[['1' '2' '3']\n",
      "  ['a' 'b' 'c']]\n",
      "\n",
      " [['4' '5' '6']\n",
      "  ['e' 'f' 'g']]]\n"
     ]
    }
   ],
   "source": [
    "# 3. joining arrays in new axis\n",
    "print(np.stack((first,second),axis=1))"
   ]
  },
  {
   "cell_type": "code",
   "execution_count": 19,
   "metadata": {},
   "outputs": [
    {
     "name": "stdout",
     "output_type": "stream",
     "text": [
      "[[1 2 4 5]\n",
      " [4 3 7 6]]\n"
     ]
    }
   ],
   "source": [
    "# 4. joining along x-axis\n",
    "arr_1 = np.array([[1, 2],[4, 3]])\n",
    "arr_2 = np.array([[4, 5],[7, 6]])\n",
    "print(np.hstack((arr_1, arr_2)))"
   ]
  },
  {
   "cell_type": "code",
   "execution_count": 20,
   "metadata": {},
   "outputs": [
    {
     "name": "stdout",
     "output_type": "stream",
     "text": [
      "[[1 2]\n",
      " [4 3]\n",
      " [4 5]\n",
      " [7 6]]\n"
     ]
    }
   ],
   "source": [
    "# 5. joining along y-axis\n",
    "print(np.vstack((arr_1, arr_2)))"
   ]
  },
  {
   "cell_type": "code",
   "execution_count": 30,
   "metadata": {},
   "outputs": [
    {
     "name": "stdout",
     "output_type": "stream",
     "text": [
      "[[1 4]\n",
      " [2 3]\n",
      " [4 7]\n",
      " [5 6]]\n"
     ]
    }
   ],
   "source": [
    "# 6. Transposing an array\n",
    "arr_3=np.transpose(np.hstack((arr_1,arr_2)))\n",
    "print(arr_3)"
   ]
  },
  {
   "cell_type": "code",
   "execution_count": 32,
   "metadata": {},
   "outputs": [
    {
     "name": "stdout",
     "output_type": "stream",
     "text": [
      "[1 4 2 3 4 7 5 6]\n",
      "Flattening across column wise: \n",
      "[1 2 4 5 4 3 7 6]\n",
      "Flattening across row wise: \n",
      "[1 4 2 3 4 7 5 6]\n"
     ]
    }
   ],
   "source": [
    "# 7.  change to 1D\n",
    "print (arr_3.flatten() )\n",
    "print(\"Flattening across column wise: \")\n",
    "print (arr_3.flatten(order = 'F'))\n",
    "print(\"Flattening across row wise: \")\n",
    "print (arr_3.flatten(order = 'C'))"
   ]
  },
  {
   "cell_type": "code",
   "execution_count": 41,
   "metadata": {},
   "outputs": [
    {
     "name": "stdout",
     "output_type": "stream",
     "text": [
      "Original Array Shape: \n",
      "(6,)\n",
      "Resized array Shape: \n",
      "(3, 2)\n",
      "Resized array: \n",
      "[[1 2]\n",
      " [3 4]\n",
      " [5 6]]\n"
     ]
    }
   ],
   "source": [
    "# 8. resizing the array\n",
    "arr=np.array([1,2,3,4,5,6])\n",
    "print(\"Original Array Shape: \")\n",
    "print(arr.shape)\n",
    "print(\"Resized array Shape: \")\n",
    "print(np.resize(arr,(3,2)).shape)\n",
    "print(\"Resized array: \")\n",
    "arr=np.resize(arr,(3,2))\n",
    "print(arr)"
   ]
  },
  {
   "cell_type": "code",
   "execution_count": 44,
   "metadata": {},
   "outputs": [
    {
     "name": "stdout",
     "output_type": "stream",
     "text": [
      "[[1 2]\n",
      " [3 4]\n",
      " [5 6]\n",
      " [1 4]\n",
      " [2 3]\n",
      " [4 7]\n",
      " [5 6]]\n"
     ]
    }
   ],
   "source": [
    "# 9. appending array elements across x-axis\n",
    "print(np.append(arr,arr_3,axis=0))"
   ]
  },
  {
   "cell_type": "code",
   "execution_count": 47,
   "metadata": {},
   "outputs": [
    {
     "name": "stdout",
     "output_type": "stream",
     "text": [
      "[[1 2 7]\n",
      " [3 4 8]\n",
      " [5 6 9]]\n"
     ]
    }
   ],
   "source": [
    "# 10.appending across y axis\n",
    "print(np.append(arr,[[7],[8],[9]],axis=1))"
   ]
  }
 ],
 "metadata": {
  "kernelspec": {
   "display_name": "Python 3",
   "language": "python",
   "name": "python3"
  },
  "language_info": {
   "codemirror_mode": {
    "name": "ipython",
    "version": 3
   },
   "file_extension": ".py",
   "mimetype": "text/x-python",
   "name": "python",
   "nbconvert_exporter": "python",
   "pygments_lexer": "ipython3",
   "version": "3.8.3"
  }
 },
 "nbformat": 4,
 "nbformat_minor": 4
}
