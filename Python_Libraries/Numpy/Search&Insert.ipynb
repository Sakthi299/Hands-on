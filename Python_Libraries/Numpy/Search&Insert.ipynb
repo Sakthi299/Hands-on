{
 "cells": [
  {
   "cell_type": "code",
   "execution_count": 1,
   "metadata": {},
   "outputs": [
    {
     "name": "stdout",
     "output_type": "stream",
     "text": [
      "(array([5], dtype=int64),)\n"
     ]
    }
   ],
   "source": [
    "# 1. Search elements of array\n",
    "import numpy as np\n",
    "arr=np.array([2,3,4,5,6,7,9,8,11])\n",
    "key=7\n",
    "print(np.where(arr == key))"
   ]
  },
  {
   "cell_type": "code",
   "execution_count": 7,
   "metadata": {},
   "outputs": [
    {
     "name": "stdout",
     "output_type": "stream",
     "text": [
      "[ 1.   2.5  4.   5.5  7.   8.5 10.  11.5 13.  14.5 16.  17.5 19.  20.5]\n"
     ]
    }
   ],
   "source": [
    "# 2. Search range of elements\n",
    "arr=np.arange(1,21,1.5)\n",
    "print(arr)"
   ]
  },
  {
   "cell_type": "code",
   "execution_count": 8,
   "metadata": {},
   "outputs": [
    {
     "name": "stdout",
     "output_type": "stream",
     "text": [
      "Even number indices: \n",
      "(array([ 2,  6, 10], dtype=int64),)\n"
     ]
    }
   ],
   "source": [
    "print(\"Even number indices: \")\n",
    "print(np.where(arr%2==0))"
   ]
  },
  {
   "cell_type": "code",
   "execution_count": 9,
   "metadata": {},
   "outputs": [
    {
     "name": "stdout",
     "output_type": "stream",
     "text": [
      "Odd number indices: \n",
      "(array([ 0,  1,  3,  4,  5,  7,  8,  9, 11, 12, 13], dtype=int64),)\n"
     ]
    }
   ],
   "source": [
    "print(\"Odd number indices: \")\n",
    "print(np.where(arr%2 !=0))"
   ]
  },
  {
   "cell_type": "code",
   "execution_count": 12,
   "metadata": {},
   "outputs": [
    {
     "name": "stdout",
     "output_type": "stream",
     "text": [
      "[22 24 26 28 30 32 34 36 38 40 42 44]\n"
     ]
    }
   ],
   "source": [
    "# 3. searchsorted\n",
    "arr=np.arange(22,45,2)\n",
    "print(arr)"
   ]
  },
  {
   "cell_type": "code",
   "execution_count": 13,
   "metadata": {},
   "outputs": [
    {
     "name": "stdout",
     "output_type": "stream",
     "text": [
      "[10  3  7]\n"
     ]
    }
   ],
   "source": [
    "# 4. index values for insertion\n",
    "new=np.searchsorted(arr,[41,27,35])\n",
    "print(new)"
   ]
  },
  {
   "cell_type": "code",
   "execution_count": 20,
   "metadata": {},
   "outputs": [
    {
     "name": "stdout",
     "output_type": "stream",
     "text": [
      "[ 1  2  3 11 12  4  5  6]\n"
     ]
    }
   ],
   "source": [
    "# 5. inserting array elements\n",
    "a = np.array([[1,2],[3,4],[5,6]]) \n",
    "print (np.insert(a,3,[11,12]))"
   ]
  }
 ],
 "metadata": {
  "kernelspec": {
   "display_name": "Python 3",
   "language": "python",
   "name": "python3"
  },
  "language_info": {
   "codemirror_mode": {
    "name": "ipython",
    "version": 3
   },
   "file_extension": ".py",
   "mimetype": "text/x-python",
   "name": "python",
   "nbconvert_exporter": "python",
   "pygments_lexer": "ipython3",
   "version": "3.8.3"
  }
 },
 "nbformat": 4,
 "nbformat_minor": 4
}
