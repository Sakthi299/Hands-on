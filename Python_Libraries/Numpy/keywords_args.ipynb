{
 "cells": [
  {
   "cell_type": "code",
   "execution_count": 1,
   "metadata": {},
   "outputs": [
    {
     "name": "stdout",
     "output_type": "stream",
     "text": [
      "10\n"
     ]
    },
    {
     "ename": "NameError",
     "evalue": "name 'num_2' is not defined",
     "output_type": "error",
     "traceback": [
      "\u001b[1;31m---------------------------------------------------------------------------\u001b[0m",
      "\u001b[1;31mNameError\u001b[0m                                 Traceback (most recent call last)",
      "\u001b[1;32m<ipython-input-1-8091cef8ad3e>\u001b[0m in \u001b[0;36m<module>\u001b[1;34m\u001b[0m\n\u001b[0;32m      4\u001b[0m \u001b[1;32mdel\u001b[0m \u001b[0mnum_2\u001b[0m                  \u001b[1;31m#num_2 deleted\u001b[0m\u001b[1;33m\u001b[0m\u001b[1;33m\u001b[0m\u001b[0m\n\u001b[0;32m      5\u001b[0m \u001b[0mprint\u001b[0m\u001b[1;33m(\u001b[0m\u001b[0mnum_1\u001b[0m\u001b[1;33m)\u001b[0m\u001b[1;33m\u001b[0m\u001b[1;33m\u001b[0m\u001b[0m\n\u001b[1;32m----> 6\u001b[1;33m \u001b[0mprint\u001b[0m\u001b[1;33m(\u001b[0m\u001b[0mnum_2\u001b[0m\u001b[1;33m)\u001b[0m\u001b[1;33m\u001b[0m\u001b[1;33m\u001b[0m\u001b[0m\n\u001b[0m",
      "\u001b[1;31mNameError\u001b[0m: name 'num_2' is not defined"
     ]
    }
   ],
   "source": [
    "# 11. deleting variable\n",
    "num_1=10\n",
    "num_2=20\n",
    "del num_2                  #num_2 deleted\n",
    "print(num_1)\n",
    "print(num_2)"
   ]
  },
  {
   "cell_type": "code",
   "execution_count": 2,
   "metadata": {},
   "outputs": [
    {
     "name": "stdout",
     "output_type": "stream",
     "text": [
      "name 'num_1' is not defined\n"
     ]
    }
   ],
   "source": [
    "# 12. handle exception \n",
    "try:\n",
    "    num_1\n",
    "    num_2 = 1+num_1\n",
    "except Exception as e:\n",
    "    print(e)"
   ]
  },
  {
   "cell_type": "code",
   "execution_count": 3,
   "metadata": {},
   "outputs": [
    {
     "ename": "Exception",
     "evalue": "num should be positive",
     "output_type": "error",
     "traceback": [
      "\u001b[1;31m---------------------------------------------------------------------------\u001b[0m",
      "\u001b[1;31mException\u001b[0m                                 Traceback (most recent call last)",
      "\u001b[1;32m<ipython-input-3-244e23e50e1f>\u001b[0m in \u001b[0;36m<module>\u001b[1;34m\u001b[0m\n\u001b[0;32m      2\u001b[0m \u001b[0mnum\u001b[0m\u001b[1;33m=\u001b[0m\u001b[1;33m-\u001b[0m\u001b[1;36m2\u001b[0m\u001b[1;33m\u001b[0m\u001b[1;33m\u001b[0m\u001b[0m\n\u001b[0;32m      3\u001b[0m \u001b[1;32mif\u001b[0m\u001b[1;33m(\u001b[0m\u001b[0mnum\u001b[0m\u001b[1;33m<=\u001b[0m\u001b[1;36m0\u001b[0m\u001b[1;33m)\u001b[0m\u001b[1;33m:\u001b[0m\u001b[1;33m\u001b[0m\u001b[1;33m\u001b[0m\u001b[0m\n\u001b[1;32m----> 4\u001b[1;33m     \u001b[1;32mraise\u001b[0m \u001b[0mException\u001b[0m\u001b[1;33m(\u001b[0m\u001b[1;34m\"num should be positive\"\u001b[0m\u001b[1;33m)\u001b[0m\u001b[1;33m\u001b[0m\u001b[1;33m\u001b[0m\u001b[0m\n\u001b[0m",
      "\u001b[1;31mException\u001b[0m: num should be positive"
     ]
    }
   ],
   "source": [
    "# 13. raise exception\n",
    "num=-2\n",
    "if(num<=0):\n",
    "    raise Exception(\"num should be positive\")"
   ]
  },
  {
   "cell_type": "code",
   "execution_count": 20,
   "metadata": {},
   "outputs": [
    {
     "name": "stdout",
     "output_type": "stream",
     "text": [
      "Execution incorrect\n",
      "division by zero\n",
      "Execution paused\n",
      "Execution uninterrupted\n"
     ]
    }
   ],
   "source": [
    "# 14. code block uninterrupted\n",
    "flag=True\n",
    "if(flag):\n",
    "    print(\"Execution incorrect\")\n",
    "    try:\n",
    "        num=3/0\n",
    "    except Exception as i:\n",
    "        print(i)\n",
    "        print(\"Execution paused\")\n",
    "    finally:\n",
    "        print(\"Execution uninterrupted\")"
   ]
  },
  {
   "cell_type": "code",
   "execution_count": 22,
   "metadata": {},
   "outputs": [
    {
     "name": "stdout",
     "output_type": "stream",
     "text": [
      "True\n"
     ]
    }
   ],
   "source": [
    "# 15. checking equality\n",
    "num=10\n",
    "no=10\n",
    "print(num is no)"
   ]
  },
  {
   "cell_type": "code",
   "execution_count": 23,
   "metadata": {},
   "outputs": [
    {
     "name": "stdout",
     "output_type": "stream",
     "text": [
      "False\n"
     ]
    }
   ],
   "source": [
    "# 16. mutable datatypes don't refer to same object\n",
    "list_1=[]\n",
    "list_2=[]\n",
    "print(list_1 is list_2)"
   ]
  },
  {
   "cell_type": "code",
   "execution_count": 38,
   "metadata": {},
   "outputs": [],
   "source": [
    "# 17. local vs global\n",
    "num=20\n",
    "def func(no=10):\n",
    "    global n\n",
    "    n=30\n",
    "    print(no)\n",
    "def demo():\n",
    "    num=12\n",
    "    print(num)\n",
    "    print(n)"
   ]
  },
  {
   "cell_type": "code",
   "execution_count": 39,
   "metadata": {},
   "outputs": [
    {
     "name": "stdout",
     "output_type": "stream",
     "text": [
      "40\n",
      "10\n",
      "20\n",
      "12\n",
      "30\n"
     ]
    }
   ],
   "source": [
    "func(40)\n",
    "func()\n",
    "print(num)\n",
    "demo()"
   ]
  },
  {
   "cell_type": "code",
   "execution_count": 42,
   "metadata": {},
   "outputs": [
    {
     "name": "stdout",
     "output_type": "stream",
     "text": [
      "Inside\n",
      "Inside\n"
     ]
    }
   ],
   "source": [
    "# 18. nonlocal in nested functions\n",
    "def outside():\n",
    "    str=\"Outside\"\n",
    "    def inside():\n",
    "        nonlocal str\n",
    "        str=\"Inside\"\n",
    "        print(str)\n",
    "    inside()\n",
    "    print(str)\n",
    "outside()"
   ]
  },
  {
   "cell_type": "code",
   "execution_count": 54,
   "metadata": {},
   "outputs": [
    {
     "name": "stdout",
     "output_type": "stream",
     "text": [
      "Programmers tend to solve the real world problems.\n"
     ]
    }
   ],
   "source": [
    "# 19. backslash usage\n",
    "sentence=\"Programmers\\\n",
    " tend to \\\n",
    "solve \\\n",
    "the real world \\\n",
    "problems.\"\n",
    "print(sentence)"
   ]
  },
  {
   "cell_type": "code",
   "execution_count": 66,
   "metadata": {},
   "outputs": [
    {
     "name": "stdout",
     "output_type": "stream",
     "text": [
      "Ajay\n",
      "Krishna\n",
      "Sunil\n",
      "{'b_1': 'Tulip', 'b_2': 'Rose'}\n"
     ]
    }
   ],
   "source": [
    "# 20. arguments of function\n",
    "def func(*args):\n",
    "    for i in args:\n",
    "        print(i)\n",
    "def fun(**kwargs):\n",
    "        print(kwargs)\n",
    "func(\"Ajay\",\"Krishna\",\"Sunil\")\n",
    "fun(b_1=\"Tulip\",b_2=\"Rose\")"
   ]
  }
 ],
 "metadata": {
  "kernelspec": {
   "display_name": "Python 3",
   "language": "python",
   "name": "python3"
  },
  "language_info": {
   "codemirror_mode": {
    "name": "ipython",
    "version": 3
   },
   "file_extension": ".py",
   "mimetype": "text/x-python",
   "name": "python",
   "nbconvert_exporter": "python",
   "pygments_lexer": "ipython3",
   "version": "3.8.3"
  }
 },
 "nbformat": 4,
 "nbformat_minor": 4
}
