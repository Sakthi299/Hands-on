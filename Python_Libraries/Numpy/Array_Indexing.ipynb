{
 "cells": [
  {
   "cell_type": "code",
   "execution_count": 10,
   "metadata": {},
   "outputs": [],
   "source": [
    "#1. Numpy array Indexing\n",
    "import numpy as np\n",
    "arr_1=np.array([[1,2,3,4,5],[1,0,1,0,1]])\n",
    "arr_2=np.array([[1,0,1,0,1],[1,2,3,4,5]])"
   ]
  },
  {
   "cell_type": "code",
   "execution_count": 19,
   "metadata": {},
   "outputs": [],
   "source": [
    "# 2. Creation of empty array\n",
    "sum=np.empty((2,5))"
   ]
  },
  {
   "cell_type": "code",
   "execution_count": 20,
   "metadata": {},
   "outputs": [
    {
     "name": "stdout",
     "output_type": "stream",
     "text": [
      "2 2 4 4 6 \r\n",
      "2 2 4 4 6 \r\n"
     ]
    }
   ],
   "source": [
    "# 3. Summation of elements in array\n",
    "for i in range(2):\n",
    "    for j in range(5):\n",
    "        sum=arr_1[i,j]+arr_2[i,j]\n",
    "        print(sum,end=\" \")\n",
    "    print(\"\\r\")"
   ]
  },
  {
   "cell_type": "code",
   "execution_count": 21,
   "metadata": {},
   "outputs": [],
   "source": [
    "# 4. Initialising array\n",
    "arr=np.array([['z','y','x'],['c','b','a']])"
   ]
  },
  {
   "cell_type": "code",
   "execution_count": 33,
   "metadata": {},
   "outputs": [
    {
     "name": "stdout",
     "output_type": "stream",
     "text": [
      "Array before reversing: \n",
      "   z    y    x \r\n",
      "   c    b    a \r\n"
     ]
    }
   ],
   "source": [
    "# 5. Printing elements\n",
    "print(\"Array before reversing: \")\n",
    "for i in range(2):\n",
    "    for j in range(3):\n",
    "        print(\"  \",arr[i,j],end=\" \")\n",
    "    print(\"\\r\")"
   ]
  },
  {
   "cell_type": "code",
   "execution_count": 34,
   "metadata": {},
   "outputs": [
    {
     "name": "stdout",
     "output_type": "stream",
     "text": [
      "   x    y    z \r\n",
      "   a    b    c \r\n"
     ]
    }
   ],
   "source": [
    "# 6.Reversing\n",
    "for i in range(0,2,1):\n",
    "    for j in range(2,-1,-1):\n",
    "        print(\"  \",arr[i,j],end=\" \")\n",
    "    print(\"\\r\")"
   ]
  }
 ],
 "metadata": {
  "kernelspec": {
   "display_name": "Python 3",
   "language": "python",
   "name": "python3"
  },
  "language_info": {
   "codemirror_mode": {
    "name": "ipython",
    "version": 3
   },
   "file_extension": ".py",
   "mimetype": "text/x-python",
   "name": "python",
   "nbconvert_exporter": "python",
   "pygments_lexer": "ipython3",
   "version": "3.8.3"
  }
 },
 "nbformat": 4,
 "nbformat_minor": 4
}
