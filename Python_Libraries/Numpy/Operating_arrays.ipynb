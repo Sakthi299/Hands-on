{
 "cells": [
  {
   "cell_type": "code",
   "execution_count": 6,
   "metadata": {},
   "outputs": [
    {
     "name": "stdout",
     "output_type": "stream",
     "text": [
      "['blue' 'red' 'orange' 'red' 'pink' 'pink' 'orange' 'Red' '8']\n",
      "\n",
      "UNIQUE_VALUES: ['8' 'Red' 'blue' 'orange' 'pink' 'red']\n"
     ]
    }
   ],
   "source": [
    "# 1. Finding unique value in array\n",
    "import numpy as np\n",
    "arr_1= np.array(['blue','red','orange','red','pink','pink','orange','Red',8])\n",
    "print(arr_1);print(\"\")\n",
    "print(\"UNIQUE_VALUES:\" ,np.unique(arr_1))"
   ]
  },
  {
   "cell_type": "code",
   "execution_count": 7,
   "metadata": {},
   "outputs": [
    {
     "name": "stdout",
     "output_type": "stream",
     "text": [
      "[[0.02970844 0.27475014 0.24892955 0.26312672 0.5194857 ]\n",
      " [0.61481195 0.77801964 0.59906958 0.34728584 0.07002241]\n",
      " [0.25900636 0.60117468 0.85480226 0.05219027 0.756084  ]\n",
      " [0.95384305 0.76809663 0.95850099 0.89001709 0.72940602]\n",
      " [0.40570402 0.60178436 0.37304405 0.15807067 0.30889997]]\n"
     ]
    }
   ],
   "source": [
    "# 2. specified size of random values array\n",
    "arr = np.random.rand(5,5) \n",
    "print(arr)"
   ]
  },
  {
   "cell_type": "code",
   "execution_count": 8,
   "metadata": {},
   "outputs": [
    {
     "name": "stdout",
     "output_type": "stream",
     "text": [
      "-0.36876353147930435\n",
      "\n",
      "[[ 1.01140875 -0.0822069 ]\n",
      " [-0.90863555  0.38496274]\n",
      " [-0.52335353 -0.67439442]]\n"
     ]
    }
   ],
   "source": [
    "# 3. specified size of standard normal random variable\n",
    "rand_1 = np.random.randn() \n",
    "print(rand_1);print('')\n",
    "rand_2= np.random.randn(3,2)\n",
    "print(rand_2)"
   ]
  },
  {
   "cell_type": "code",
   "execution_count": 12,
   "metadata": {},
   "outputs": [
    {
     "name": "stdout",
     "output_type": "stream",
     "text": [
      "0.6617685205949247\n",
      "\n",
      "5.5\n"
     ]
    }
   ],
   "source": [
    "# 4. statistical functions for Standard Deviation & Mean\n",
    "print(np.std(rand_2)); print(\"\")\n",
    "arr_1=np.arange(1,11)\n",
    "print(np.mean(arr_1))"
   ]
  },
  {
   "cell_type": "code",
   "execution_count": 15,
   "metadata": {},
   "outputs": [
    {
     "name": "stdout",
     "output_type": "stream",
     "text": [
      "Array:  [ 1  2  3  4  5  6  7  8  9 10]\n",
      "1\n",
      "10\n"
     ]
    }
   ],
   "source": [
    "# 5. Finding min & max\n",
    "print(\"Array: \",arr_1)\n",
    "print(np.min(arr_1),np.max(arr_1),sep=\"\\n\")"
   ]
  },
  {
   "cell_type": "code",
   "execution_count": 21,
   "metadata": {},
   "outputs": [
    {
     "name": "stdout",
     "output_type": "stream",
     "text": [
      "[[0.27475014 0.24892955]\n",
      " [0.77801964 0.59906958]]\n"
     ]
    }
   ],
   "source": [
    "# 6. selecting specific values in array\n",
    "print(arr[0:2,1:3])"
   ]
  },
  {
   "cell_type": "code",
   "execution_count": 27,
   "metadata": {},
   "outputs": [
    {
     "name": "stdout",
     "output_type": "stream",
     "text": [
      "[[0.02970844 0.27475014 0.24892955 1.         2.        ]\n",
      " [0.61481195 0.77801964 0.59906958 1.         2.        ]\n",
      " [0.25900636 0.60117468 0.85480226 1.         2.        ]\n",
      " [0.95384305 0.76809663 0.95850099 1.         2.        ]\n",
      " [0.40570402 0.60178436 0.37304405 1.         2.        ]]\n"
     ]
    }
   ],
   "source": [
    "# 7. update some vaues in array\n",
    "arr[0:6,3:5] = [1,2]\n",
    "print(arr)"
   ]
  },
  {
   "cell_type": "code",
   "execution_count": 28,
   "metadata": {},
   "outputs": [
    {
     "name": "stdout",
     "output_type": "stream",
     "text": [
      "[[0. 0. 0. 0. 0.]\n",
      " [0. 0. 0. 0. 0.]\n",
      " [0. 0. 0. 0. 0.]\n",
      " [0. 0. 0. 0. 0.]\n",
      " [0. 0. 0. 0. 0.]]\n"
     ]
    }
   ],
   "source": [
    "# 8. erasing all values\n",
    "arr[:]=0\n",
    "print(arr)"
   ]
  },
  {
   "cell_type": "code",
   "execution_count": 33,
   "metadata": {},
   "outputs": [
    {
     "name": "stdout",
     "output_type": "stream",
     "text": [
      "[-10  -9  -8  -7  -6  -5  -4  -3  -2  -1   0   1   2   3   4   5   6   7\n",
      "   8   9  10  11  12  13  14  15  16  17  18  19]\n",
      "\n",
      "[ 1  2  3  4  5  6  7  8  9 10 11 12 13 14 15 16 17 18 19]\n"
     ]
    }
   ],
   "source": [
    "# 9. filtering out required\n",
    "arr=np.arange(-10,20)           # array with negative & positive values\n",
    "print(arr)\n",
    "print(\"\")\n",
    "print(arr[arr>0])                     # array with all positive values"
   ]
  },
  {
   "cell_type": "code",
   "execution_count": 36,
   "metadata": {},
   "outputs": [
    {
     "name": "stdout",
     "output_type": "stream",
     "text": [
      "[ 0  0  0  0  0  0  0  0  0  0  0  1  2  3  4  5  6  7  8  9 10 11 12 13\n",
      " 14 15 16 17 18 19]\n"
     ]
    }
   ],
   "source": [
    "# 10. updating array\n",
    "arr[arr<0]=0\n",
    "print(arr)"
   ]
  }
 ],
 "metadata": {
  "kernelspec": {
   "display_name": "Python 3",
   "language": "python",
   "name": "python3"
  },
  "language_info": {
   "codemirror_mode": {
    "name": "ipython",
    "version": 3
   },
   "file_extension": ".py",
   "mimetype": "text/x-python",
   "name": "python",
   "nbconvert_exporter": "python",
   "pygments_lexer": "ipython3",
   "version": "3.8.3"
  }
 },
 "nbformat": 4,
 "nbformat_minor": 4
}
