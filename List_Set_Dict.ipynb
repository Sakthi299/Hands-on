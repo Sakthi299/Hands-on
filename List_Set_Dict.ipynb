{
 "cells": [
  {
   "cell_type": "code",
   "execution_count": 86,
   "metadata": {},
   "outputs": [
    {
     "name": "stdout",
     "output_type": "stream",
     "text": [
      "Welcome\n",
      "\n",
      "GoodMorning"
     ]
    }
   ],
   "source": [
    "# 11. Control Statements\n",
    "msg_1=\"Welcome2Home\"\n",
    "for i in msg_1:\n",
    "    if(i=='2'):\n",
    "         break\n",
    "    print(i,end=\"\")\n",
    "print(\"\\n\")\n",
    "msg_2=\"G2o2od2M2o2r2n2i2n2g\"    \n",
    "for i in msg_2:\n",
    "    if(i=='2'):\n",
    "        continue   \n",
    "    print(i,end=\"\")\n",
    "for x in msg_2:\n",
    "    pass\n",
    "      \n",
    "  "
   ]
  },
  {
   "cell_type": "code",
   "execution_count": 21,
   "metadata": {},
   "outputs": [
    {
     "name": "stdout",
     "output_type": "stream",
     "text": [
      "100\n"
     ]
    }
   ],
   "source": [
    "# 12. Boolean Variable\n",
    "num_1=100\n",
    "num_2=29\n",
    "print([num_2,num_1][bool(num_1>num_2)])"
   ]
  },
  {
   "cell_type": "code",
   "execution_count": 44,
   "metadata": {},
   "outputs": [
    {
     "name": "stdout",
     "output_type": "stream",
     "text": [
      "Yes,the mentioned item is in this list.\n",
      "List Items: \n",
      "Trichy\n",
      "Madurai\n",
      "Chennai\n",
      "Salem\n",
      "'Town' List:  ['Trichy', 'Madurai', 'Chennai']\n"
     ]
    }
   ],
   "source": [
    "#13. Python List\n",
    "city=[]                                                           #empty list\n",
    "city=[\"Trichy\",\"Madurai\",\"Salem\"]       #list creation\n",
    "city[1]=\"Chennai\"                                     #list update\n",
    "city.append(\"Erode\")\n",
    "city.insert(1,\"Madurai\")\n",
    "del city[4]                                                     #delete item in list\n",
    "size=len(city)\n",
    "if \"Chennai\" in city:\n",
    "    print(\"Yes,the mentioned item is in this list.\")\n",
    "town=city.copy()                                        #copying list\n",
    "town.pop()\n",
    "print(\"List Items: \")\n",
    "for i in range(0,size):\n",
    "    print(city[i])\n",
    "print(\"\\'Town\\' List: \",town)"
   ]
  },
  {
   "cell_type": "code",
   "execution_count": 87,
   "metadata": {},
   "outputs": [
    {
     "name": "stdout",
     "output_type": "stream",
     "text": [
      "Reversed_list:  [10, 8, 6, 4, 2]\n",
      "No.of 5's in list 'odd_num':  2\n",
      "1\t2\t3\t4\t5\t5\t6\t7\t8\t9\t10\t"
     ]
    }
   ],
   "source": [
    "# 14. List Operations\n",
    "even_num=[2,4,6,8,10]                      #list creation way_1\n",
    "odd_num=list((1,3,5,7,9))                #list creation way_2 \n",
    "odd_num.insert(4,5)\n",
    "multiple_of_2=list(even_num)   \n",
    "multiple_of_2.reverse()                    #list reverse\n",
    "print(\"Reversed_list: \",multiple_of_2)\n",
    "print(\"No.of 5's in list \\'odd_num\\': \",odd_num.count(5))\n",
    "numbers=even_num+odd_num    #extend list\n",
    "numbers.sort()                                  #list sort\n",
    "for i in numbers:\n",
    "    print(i,end=\"\\t\")"
   ]
  },
  {
   "cell_type": "code",
   "execution_count": 57,
   "metadata": {},
   "outputs": [
    {
     "name": "stdout",
     "output_type": "stream",
     "text": [
      "('Maths', 'Science', 'Computer')\n",
      "Maths\n",
      "Commerce\n"
     ]
    }
   ],
   "source": [
    "# 15.Python Tuple\n",
    "subjects=(\"Eng\",\"Tam\",\"Maths\",\"Science\",\"Computer\")\n",
    "print(subjects[-3:])\n",
    "stream=(\"Biology\",)                                              #tuple creation with one item\n",
    "todo=list(stream)\n",
    "todo[0]=\"Maths\"                             #Since,tuple is immutable tuple to list conversion helps out.\n",
    "todo.insert(1,\"Commerce\")\n",
    "stream=tuple(todo)\n",
    "for i in stream:\n",
    "    print(i)"
   ]
  },
  {
   "cell_type": "code",
   "execution_count": 75,
   "metadata": {},
   "outputs": [
    {
     "name": "stdout",
     "output_type": "stream",
     "text": [
      "4\n",
      "Largest character of set:  z\n",
      "SET_2 is  {'a', 'c', 'd'}\n"
     ]
    }
   ],
   "source": [
    "# 16. Python Set\n",
    "set1={'x','y','z'}\n",
    "set2={'a','b','c'}\n",
    "set2.add('d')\n",
    "print(len(set2))                            #length of set2\n",
    "set3=set2.union(set1)\n",
    "ele=max(set3)\n",
    "print(\"Largest character of set: \",ele)\n",
    "set2.pop()                                      #randomly pops set\n",
    "print(\"SET_2 is \",set2)"
   ]
  },
  {
   "cell_type": "code",
   "execution_count": 71,
   "metadata": {},
   "outputs": [
    {
     "name": "stdout",
     "output_type": "stream",
     "text": [
      "Set 1\t:  {4, 5, 6, 7, 8, 9}\n",
      "Set 2\t:  {6, 8, 9, 15, 17, 51}\n",
      "-----------------------------------------------------------\n",
      "Union {A u B}\t\t:  {4, 5, 6, 7, 8, 9, 15, 17, 51}\n",
      "Intersection {A n B}\t:  {8, 9, 6}\n",
      "Difference {A-B}\t\t:  {4, 5, 7}\n",
      "Symmetric Difference {A^B}\t:  {4, 5, 7, 15, 17, 51}\n",
      "-----------------------------------------------------------\n"
     ]
    }
   ],
   "source": [
    "# 17. Python Set Operations\n",
    "set_a={4,5,6,7,8,9}\n",
    "set_b={15,51,6,17,8,9}\n",
    "# set union operation\n",
    "r1=a.union(b)\n",
    "# set intersection operation\n",
    "r2=a.intersection(b)\n",
    "# set difference operation\n",
    "r3=a.difference(b)\n",
    "#set symmetric difference\n",
    "r4=a^b\n",
    "print(\"Set 1\\t: \",set_a)\n",
    "print(\"Set 2\\t: \",set_b)\n",
    "print(\"-----------------------------------------------------------\")\n",
    "print(\"Union {A u B}\\t\\t: \",r1)\n",
    "print(\"Intersection {A n B}\\t: \",r2)\n",
    "print(\"Difference {A-B}\\t\\t: \",r3)\n",
    "print(\"Symmetric Difference {A^B}\\t: \",r4)\n",
    "print(\"-----------------------------------------------------------\")\n"
   ]
  },
  {
   "cell_type": "code",
   "execution_count": 78,
   "metadata": {},
   "outputs": [
    {
     "name": "stdout",
     "output_type": "stream",
     "text": [
      "Contents of Python Dictionary:\n",
      "7 -> salem\n",
      "1 -> chennai\n",
      "3 -> trichy\n",
      "4 -> mumbai\n",
      "------------------------------------------------\n",
      "Keys of Dictionary:\n",
      "7\n",
      "1\n",
      "3\n",
      "4\n",
      "------------------------------------------------\n",
      "Values of Dictionary:\n",
      "salem\n",
      "chennai\n",
      "trichy\n",
      "mumbai\n",
      "------------------------------------------------\n",
      "Total Elements of Dictionary:  4\n"
     ]
    }
   ],
   "source": [
    "# 18. Python Dictionary\n",
    "# dictionary creation\n",
    "db={7:\"salem\",1:\"chennai\",3:\"trichy\",4:\"mumbai\"}\n",
    "# print contents of dictionary\n",
    "print(\"Contents of Python Dictionary:\")\n",
    "for i,j in db.items():\n",
    "    print(i,\"->\",j)\n",
    "# shows keys of dictionary using for loop\n",
    "print(\"------------------------------------------------\")\n",
    "print(\"Keys of Dictionary:\")\n",
    "for k in db.keys():\n",
    "    print(k)\n",
    "print(\"------------------------------------------------\")\n",
    "# shows all values of dictionary using for loop\n",
    "print(\"Values of Dictionary:\")\n",
    "for v in db.values():\n",
    "    print(v)\n",
    "print(\"------------------------------------------------\")\n",
    "print(\"Total Elements of Dictionary: \",len(db))"
   ]
  },
  {
   "cell_type": "code",
   "execution_count": 81,
   "metadata": {
    "scrolled": true
   },
   "outputs": [
    {
     "name": "stdout",
     "output_type": "stream",
     "text": [
      "Dictionary Contents, Before Deletion\n",
      "{7: 'salem', 1: 'chennai', 3: 'trichy', 4: 'mumbai', 19: 'london', 21: 'newyork'}\n",
      "------------------------------------------------\n",
      "Dictionary Contents, After Deletion\n",
      "{7: 'salem', 1: 'chennai', 3: 'trichy', 4: 'mumbai'}\n",
      "------------------------------------------------\n",
      "Dictionary Contents, After Clear()\n",
      "{}\n",
      "------------------------------------------------\n"
     ]
    }
   ],
   "source": [
    "# 19.\n",
    "# dictionary creation\n",
    "db={7:\"salem\",1:\"chennai\",3:\"trichy\",4:\"mumbai\",19:\"london\",21:\"newyork\"}\n",
    "print(\"Dictionary Contents, Before Deletion\")\n",
    "print(db)\n",
    "print(\"------------------------------------------------\")\n",
    "# delete the key 19 using del keyword\n",
    "del db[19]\n",
    "# delete the key 21 using pop()\n",
    "db.pop(21)\n",
    "print(\"Dictionary Contents, After Deletion\")\n",
    "print(db)\n",
    "print(\"------------------------------------------------\")\n",
    "# deletion of all elements from dictionary\n",
    "db.clear()\n",
    "print(\"Dictionary Contents, After Clear()\")\n",
    "print(db)\n",
    "print(\"------------------------------------------------\")\n",
    "# deletion of entire dictionary\n",
    "del db\n"
   ]
  },
  {
   "cell_type": "code",
   "execution_count": 83,
   "metadata": {},
   "outputs": [
    {
     "name": "stdout",
     "output_type": "stream",
     "text": [
      "Palindromic Strings in List: \n",
      "madam\n",
      "mom\n"
     ]
    }
   ],
   "source": [
    "# 20. Functions\n",
    "def palindrome(checklist):\n",
    "    for x in checklist:\n",
    "        if(x == x[::-1]):\n",
    "            print(x)\n",
    "string=[\"madam\",\"dubai\",\"mom\",\"flight\"]\n",
    "print(\"Palindromic Strings in List: \")\n",
    "palindrome(string)\n",
    "        \n"
   ]
  },
  {
   "cell_type": "code",
   "execution_count": null,
   "metadata": {},
   "outputs": [],
   "source": []
  }
 ],
 "metadata": {
  "kernelspec": {
   "display_name": "Python 3",
   "language": "python",
   "name": "python3"
  },
  "language_info": {
   "codemirror_mode": {
    "name": "ipython",
    "version": 3
   },
   "file_extension": ".py",
   "mimetype": "text/x-python",
   "name": "python",
   "nbconvert_exporter": "python",
   "pygments_lexer": "ipython3",
   "version": "3.8.3"
  }
 },
 "nbformat": 4,
 "nbformat_minor": 4
}
